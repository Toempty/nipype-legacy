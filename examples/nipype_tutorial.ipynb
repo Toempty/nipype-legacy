{
 "metadata": {
  "_draft": {
   "nbviewer_url": "gisting : nipype.ipynb\r\n"
  },
  "name": ""
 },
 "nbformat": 3,
 "nbformat_minor": 0,
 "worksheets": [
  {
   "cells": [
    {
     "cell_type": "markdown",
     "metadata": {
      "slideshow": {
       "slide_type": "slide"
      }
     },
     "source": [
      "# Dissecting Nipype Workflows\n",
      "\n",
      "<center>\n",
      "Nipype team | contact: satra@mit.edu  |  nipy.org/nipype\n",
      "<br>\n",
      "(Hit Esc to get an overview)\n",
      "</center>[Latest version][notebook] | [Latest slideshow][slideshow]\n",
      "\n",
      "[notebook]: http://nbviewer.ipython.org/urls/raw.github.com/nipy/nipype/master/examples/nipype_tutorial.ipynb\n",
      "[slideshow]: http://slideviewer.herokuapp.com/url/raw.github.com/nipy/nipype/master/examples/nipype_tutorial.ipynb"
     ]
    },
    {
     "cell_type": "markdown",
     "metadata": {
      "slideshow": {
       "slide_type": "subslide"
      }
     },
     "source": [
      "# Contributors\n",
      "\n",
      "http://nipy.org/nipype/about.html#code-contributors\n",
      "\n",
      "# Funding\n",
      "\n",
      "- 1R03EB008673-01 from NIBIB, Satrajit Ghosh, Susan Whitfield-Gabrieli\n",
      "- 5R01MH081909-02 from NIMH, Mark D'Esposito\n",
      "- INCF\n",
      "\n",
      "# Conflict of interest\n",
      "\n",
      "<center>\n",
      "Satrajit Ghosh: TankThink Labs, LLC\n",
      "</center>"
     ]
    },
    {
     "cell_type": "markdown",
     "metadata": {
      "slideshow": {
       "slide_type": "slide"
      }
     },
     "source": [
      "# What is Nipype?\n",
      "\n",
      "<center>\n",
      "<img src=\"https://raw.github.com/satra/intro2nipype/master/images/nipype.png\" width=\"40%\" />\n",
      "<br>\n",
      "Figure designed and created by: Arno Klein (www.mindboggle.info)\n",
      "</center>\n"
     ]
    },
    {
     "cell_type": "markdown",
     "metadata": {
      "slideshow": {
       "slide_type": "subslide"
      }
     },
     "source": [
      "# Make life a little easier\n",
      "\n",
      "<img src=\"https://raw.github.com/satra/intro2nipype/master/images/EDC.png\" />\n",
      "\n",
      "Poline _et al._ (2012)"
     ]
    },
    {
     "cell_type": "markdown",
     "metadata": {
      "slideshow": {
       "slide_type": "subslide"
      }
     },
     "source": [
      "# Many workflow systems out there\n",
      "\n",
      "- [BioImage Suite](http://www.bioimagesuite.org/)\n",
      "- [BIRN Tools](https://wiki.birncommunity.org/x/LgFrAQ)\n",
      "- [BrainVisa](http://brainvisa.info)\n",
      "- [CambaFX](http://www-bmu.psychiatry.cam.ac.uk/software/)\n",
      "- [JIST for MIPAV](http://www.nitrc.org/projects/jist/)\n",
      "- [LONI pipeline](http://pipeline.loni.ucla.edu)\n",
      "- [MEVIS Lab](http://www.mevislab.de)\n",
      "- [PSOM](http://code.google.com/p/psom/)\n"
     ]
    },
    {
     "cell_type": "markdown",
     "metadata": {
      "slideshow": {
       "slide_type": "skip"
      }
     },
     "source": [
      "<ul>\n",
      "<li><a href=\"http://www.bioimagesuite.org/\">BioImage Suite</a></li>\n",
      "<li><a href=\"https://wiki.birncommunity.org/x/LgFrAQ\">BIRN Tools</a></li>\n",
      "<li><a href=\"http://brainvisa.info\">BrainVisa</a></li>\n",
      "<li><a href=\"http://www-bmu.psychiatry.cam.ac.uk/software/\">CambaFX</a></li>\n",
      "<li><a href=\"http://www.nitrc.org/projects/jist/\">JIST for MIPAV</a></li>\n",
      "<li><a href=\"http://pipeline.loni.ucla.edu\">LONI pipeline</a></li>\n",
      "<li><a href=\"http://www.mevislab.de\">MEVIS Lab</a></li>\n",
      "<li><a href=\"http://code.google.com/p/psom/\">PSOM</a></li>\n",
      "</ul>"
     ]
    },
    {
     "cell_type": "markdown",
     "metadata": {
      "slideshow": {
       "slide_type": "slide"
      }
     },
     "source": [
      "# Solution requirements\n",
      "\n",
      "Coming at it from a developer's perspective, we needed something\n",
      "\n",
      "- lightweight\n",
      "- scriptable\n",
      "- provided formal, common semantics\n",
      "- allowed interactive exploration\n",
      "- supported efficient batch processing\n",
      "- enabled rapid algorithm prototyping\n",
      "- was flexible and adaptive\n",
      "- part of an ecosystem"
     ]
    },
    {
     "cell_type": "markdown",
     "metadata": {
      "slideshow": {
       "slide_type": "subslide"
      }
     },
     "source": [
      "# Python ecosystem\n",
      "<table width=\"1024px\">\n",
      "<tr>\n",
      "<td colspan=\"2\"><a href=\"http://ipython.org/\"><img src=\"http://ipython.org/_static/IPy_header.png\"></a></td>\n",
      "<td colspan=\"2\"><a href=\"http://nipy.org/\"><img src=\"http://nipy.org/_static/nipy-community-banner-gy.png\"></a></td>\n",
      "</tr>\n",
      "<tr>\n",
      "<td><a href=\"http://scipy.org/\"><img src=\"http://www.scipy.org/_static/images/tutorial.png\"></a></td>\n",
      "<td><a href=\"http://numpy.org/\"><img src=\"http://www.numpy.org/_static/numpy_logo.png\"></a></td>\n",
      "<td><a href=\"http://pymvpa.org/\"><img src=\"http://www.pymvpa.org/_static/pymvpa_logo.jpg\" width=\"256\"></a></td>\n",
      "<td><a href=\"http://scikit-learn.org/\"><img src=\"http://scikit-learn.org/stable/_static/scikit-learn-logo-small.png\"></a></td>\n",
      "</tr>\n",
      "<tr>\n",
      "<td><a href=\"http://networkx.github.io/\"><img src=\"https://raw.github.com/networkx/networkx/master/doc/source/static/art1.png\" width=\"256\"></a></td>\n",
      "<td><a href=\"http://matplotlib.org/\"><img src=\"http://matplotlib.org/_static/logo2.png\" width=\"256\"></a></td>\n",
      "<td><a href=\"http://code.enthought.com/projects/mayavi/\"><img src=\"http://code.enthought.com/img/mayavi-samp.png\" width=\"256\"></a></td>\n",
      "<td><a href=\"http://neuro.debian.net/\"><img src=\"http://neuro.debian.net/_files/neurodebian_logo_posters_banner.svg\" width=\"256\"></a></td>\n",
      "</tr>\n",
      "</table>\n"
     ]
    },
    {
     "cell_type": "markdown",
     "metadata": {
      "slideshow": {
       "slide_type": "subslide"
      }
     },
     "source": [
      "#Existing technologies\n",
      "\n",
      "**shell scripting**:\n",
      "\n",
      "  Can be quick to do, and powerful, but only provides application specific \n",
      "  scalability, and not easy to port across different architectures.\n",
      "\n",
      "**make/CMake**:\n",
      "\n",
      "  Similar in concept to workflow execution in Nipype, but again limited by the\n",
      "  need for command line tools and flexibility in terms of scaling across\n",
      "  hardware architectures (although see [makeflow](http://nd.edu/~ccl/software/makeflow).\n",
      "\n",
      "**Octave/MATLAB**:\n",
      "\n",
      "  Integration with other tools is *ad hoc* (i.e., system call) and dataflow is\n",
      "  managed at a programmatic level. However, see [PSOM](http://code.google.com/p/psom/) which offers a nice\n",
      "  alternative to some aspects of Nipype for Octave/Matlab users.\n",
      "\n",
      "**Graphical options**: (e.g., [LONI Pipeline](http://pipeline.loni.ucla.edu), [VisTrails](http://www.vistrails.org/))\n",
      "\n",
      "  Are easy to use but reduces flexibility relative to scripting options."
     ]
    },
    {
     "cell_type": "markdown",
     "metadata": {
      "slideshow": {
       "slide_type": "slide"
      }
     },
     "source": [
      "#Nipype architecture\n",
      "\n",
      "<img src=\"https://raw.github.com/satra/intro2nipype/master/images/arch.png\" width=\"100%\">"
     ]
    },
    {
     "cell_type": "markdown",
     "metadata": {
      "slideshow": {
       "slide_type": "notes"
      }
     },
     "source": [
      "* **Interface**: Wraps a program or function\n",
      "\n",
      "- **Node/MapNode**: Wraps an `Interface` for use in a Workflow that provides\n",
      "  caching and other goodies (e.g., pseudo-sandbox)\n",
      "- **Workflow**: A *graph* or *forest of graphs* whose nodes are of type `Node`,\n",
      "  `MapNode` or `Workflow` and whose edges represent data flow\n",
      "\n",
      "* **Plugin**: A component that describes how a `Workflow` should be executed"
     ]
    },
    {
     "cell_type": "markdown",
     "metadata": {
      "slideshow": {
       "slide_type": "subslide"
      }
     },
     "source": [
      "#Software interfaces\n",
      "\n",
      "Currently supported (5-2-2013). [Click here for latest](http://www.mit.edu/~satra/nipype-nightly/documentation.html)\n",
      "\n",
      "<style>\n",
      ".rendered_html table{border:0px}\n",
      ".rendered_html tr{border:0px}\n",
      ".rendered_html td{border:0px}\n",
      "</style>\n",
      "\n",
      "<table>\n",
      "<tr>\n",
      "<td>\n",
      "<ul>\n",
      "<li><a href=\"http://afni.nimh.nih.gov/afni\">AFNI</a></li>\n",
      "<li><a href=\"http://www.picsl.upenn.edu/ANTS\">ANTS</a></li>\n",
      "<li><a href=\"http://www.psychiatry.uiowa.edu/mhcrc/IPLpages/BRAINS.htm\">BRAINS</a></li>\n",
      "<li><a href=\"http://www.cs.ucl.ac.uk/research/medic/camino\">Camino</a></li>\n",
      "<li><a href=\"http://www.nitrc.org/projects/camino-trackvis\">Camino-TrackVis</a></li>\n",
      "<li><a href=\"http://www.connectomeviewer.org\">ConnectomeViewerToolkit</a></li>\n",
      "<li><a href=\"http://www.cabiatl.com/mricro/mricron/dcm2nii.html\">dcm2nii</a></li>\n",
      "<li><a href=\"http://www.trackvis.org/dtk\">Diffusion Toolkit</a></li>\n",
      "</ul>\n",
      "</td>\n",
      "<td>\n",
      "<ul>\n",
      "<li><a href=\"http://freesurfer.net\">FreeSurfer</a></li>\n",
      "<li><a href=\"http://www.fmrib.ox.ac.uk/fsl\">FSL</a></li>\n",
      "<li><a href=\"http://www.brain.org.au/software/mrtrix/index.html\">MRtrx</a></li>\n",
      "<li><a href=\"http://nipy.org/nipy\">Nipy</a></li>\n",
      "<li><a href=\"http://nipy.org/nitime\">Nitime</a></li>\n",
      "<li><a href=\"http://github.com/pyxnat\">PyXNAT</a></li>\n",
      "<li><a href=\"http://www.slicer.org\">Slicer</a></li>\n",
      "<li><a href=\"http://www.fil.ion.ucl.ac.uk/spm\">SPM</a></li>\n",
      "</ul>\n",
      "</td>\n",
      "</tr>\n",
      "</table>\n",
      "\n",
      "Most used/contributed policy!\n",
      "\n",
      "Not all components of these packages are available."
     ]
    },
    {
     "cell_type": "markdown",
     "metadata": {
      "slideshow": {
       "slide_type": "skip"
      }
     },
     "source": [
      "# Workflows\n",
      "\n",
      "- Properties:\n",
      "\n",
      "    - processing pipeline is a directed acyclic graph (DAG)\n",
      "    - nodes are processes\n",
      "    - edges represent data flow\n",
      "    - compact represenation for any process\n",
      "    - code and data separation"
     ]
    },
    {
     "cell_type": "markdown",
     "metadata": {
      "slideshow": {
       "slide_type": "subslide"
      }
     },
     "source": [
      "#Execution Plugins\n",
      "\n",
      "Allows seamless execution across many architectures\n",
      "\n",
      "  - Local\n",
      "\n",
      "    - Serial\n",
      "    - Multicore\n",
      "\n",
      "  - Clusters\n",
      "\n",
      "    - HTCondor\n",
      "    - PBS/Torque/SGE/LSF (native and via IPython)\n",
      "    - SSH (via IPython)\n",
      "    - Soma Workflow"
     ]
    },
    {
     "cell_type": "markdown",
     "metadata": {
      "slideshow": {
       "slide_type": "slide"
      }
     },
     "source": [
      "# Learn Nipype concepts in 10 easy steps\n",
      "\n",
      "\n",
      "1. Installing and testing the installation \n",
      "2. Working with interfaces\n",
      "3. Using Nipype caching\n",
      "4. Creating Nodes, MapNodes and Workflows\n",
      "5. Getting and saving data\n",
      "6. Using Iterables\n",
      "7. Function nodes\n",
      "8. Distributed computation\n",
      "9. Connecting to databases\n",
      "10. Execution configuration options"
     ]
    },
    {
     "cell_type": "markdown",
     "metadata": {
      "slideshow": {
       "slide_type": "slide"
      }
     },
     "source": [
      "# Step 1. Installing Nipype\n",
      "\n",
      "## Scientific Python:\n",
      "\n",
      "* Debian/Ubuntu/Scientific Fedora\n",
      "* [Canopy from Enthought](https://www.enthought.com/products/canopy/)\n",
      "* [Anaconda from Contnuum Analytics](https://store.continuum.io/cshop/anaconda/)\n",
      "\n",
      "## Installing Nipype:\n",
      "\n",
      "* Available from [@NeuroDebian](http://neuro.debian.net/pkgs/python-nipype.html),\n",
      "  [@PyPI](http://pypi.python.org/pypi/nipype/), and\n",
      "  [@GitHub](http://github.com/nipy/nipype)\n",
      "  \n",
      "      - pip install nipype\n",
      "      - easy_install nipype\n",
      "      - sudo apt-get install python-nipype\n",
      "\n",
      "* Dependencies: networkx, nibabel, numpy, scipy, traits\n",
      "\n",
      "## Running Nipype ([Quickstart](http://nipy.org/nipype/quickstart.html)):\n",
      "\n",
      "* Ensure underlying tools are installed and accessible\n",
      "* Nipype **is a wrapper, not a substitute** for AFNI, ANTS, FreeSurfer, FSL, SPM,\n",
      "  NiPy, etc.,."
     ]
    },
    {
     "cell_type": "markdown",
     "metadata": {
      "slideshow": {
       "slide_type": "subslide"
      }
     },
     "source": [
      "# Step 1. Testing nipype"
     ]
    },
    {
     "cell_type": "markdown",
     "metadata": {},
     "source": [
      "To set up the environment an start ipython open a terminal and type:"
     ]
    },
    {
     "cell_type": "markdown",
     "metadata": {},
     "source": [
      "    $ freesurfer\n",
      "    \n",
      "    $ FSL --version=5.0\n",
      "    \n",
      "    $ SPM\n",
      "    \n",
      "    $ ipython1x notebook"
     ]
    },
    {
     "cell_type": "code",
     "collapsed": false,
     "input": [
      "import nipype\n",
      "\n",
      "# Comment the following section to increase verbosity of output\n",
      "nipype.config.set('logging', 'workflow_level', 'CRITICAL')\n",
      "nipype.config.set('logging', 'interface_level', 'CRITICAL')\n",
      "nipype.logging.update_logging(nipype.config)\n",
      "\n",
      "nipype.test(verbose=0) # Increase verbosity parameter for more info"
     ],
     "language": "python",
     "metadata": {},
     "outputs": [
      {
       "output_type": "stream",
       "stream": "stdout",
       "text": [
        "Running unit tests for nipype\n",
        "NumPy version 1.6.1"
       ]
      },
      {
       "output_type": "stream",
       "stream": "stderr",
       "text": [
        "/usr/lib/pymodules/python2.7/nipype/workflows/dmri/connectivity/group_connectivity.py:13: UserWarning: cmp not installed\n",
        "  warnings.warn('cmp not installed')\n",
        "/usr/lib/pymodules/python2.7/nipype/workflows/dmri/mrtrix/group_connectivity.py:13: UserWarning: cmp not installed\n",
        "  warnings.warn('cmp not installed')\n",
        "/usr/lib/pymodules/python2.7/nipype/algorithms/rapidart.py:269: UserWarning: Deprecation warning: \"bound_by_brainmask\" will be set to Truein release 0.8\n",
        "  warn(('Deprecation warning: \"bound_by_brainmask\" will be set to True'\n"
       ]
      },
      {
       "output_type": "stream",
       "stream": "stderr",
       "text": [
        "/usr/lib/pymodules/python2.7/nipype/algorithms/rapidart.py:269: UserWarning: Deprecation warning: \"bound_by_brainmask\" will be set to Truein release 0.8\n",
        "  warn(('Deprecation warning: \"bound_by_brainmask\" will be set to True'\n",
        "/usr/lib/pymodules/python2.7/nipype/algorithms/rapidart.py:269: UserWarning: Deprecation warning: \"bound_by_brainmask\" will be set to Truein release 0.8\n",
        "  warn(('Deprecation warning: \"bound_by_brainmask\" will be set to True'\n",
        "/usr/lib/pymodules/python2.7/nipype/interfaces/base.py:368: UserWarning: Input project_data requires inputs: threshold, distance_map, data_file\n",
        "  warn(msg)\n"
       ]
      },
      {
       "output_type": "stream",
       "stream": "stderr",
       "text": [
        "/usr/lib/pymodules/python2.7/nipype/interfaces/fsl/preprocess.py:1283: UserWarning: This interface has not been fully tested. Please report any failures.\n",
        "  'This interface has not been fully tested. Please report any failures.')\n",
        "/usr/lib/pymodules/python2.7/nipype/interfaces/fsl/preprocess.py:1397: UserWarning: This has not been fully tested. Please report any failures.\n",
        "  warn('This has not been fully tested. Please report any failures.')\n",
        "/usr/lib/pymodules/python2.7/nipype/interfaces/base.py:368: UserWarning: Input all_axial requires inputs: image_width\n",
        "  warn(msg)\n"
       ]
      },
      {
       "output_type": "stream",
       "stream": "stderr",
       "text": [
        "/usr/lib/pymodules/python2.7/nipype/interfaces/base.py:368: UserWarning: Input concat_xfm requires inputs: in_file2\n",
        "  warn(msg)\n",
        "/usr/lib/pymodules/python2.7/nipype/interfaces/base.py:368: UserWarning: Input kung requires inputs: foo\n",
        "  warn(msg)\n"
       ]
      },
      {
       "output_type": "stream",
       "stream": "stdout",
       "text": [
        "\n",
        "NumPy is installed in /usr/lib/python2.7/dist-packages/numpy\n",
        "Python version 2.7.3 (default, Sep 26 2013, 20:03:06) [GCC 4.6.3]\n",
        "nose version 1.1.2\n",
        "Exception occurred in traits notification handler.\n",
        "Please check the log file for details."
       ]
      },
      {
       "output_type": "stream",
       "stream": "stderr",
       "text": [
        "Exception occurred in traits notification handler for object: \n",
        "bar = <undefined>\n",
        "foo = 1\n",
        "kung = 10.0\n",
        ", trait: bar, old value: <undefined>, new value: 1\n",
        "Traceback (most recent call last):\n",
        "  File \"/usr/lib/python2.7/dist-packages/traits/trait_notifiers.py\", line 536, in rebind_call_4\n",
        "    object, trait_name, old, new )\n",
        "  File \"/usr/lib/python2.7/dist-packages/traits/trait_notifiers.py\", line 448, in dispatch\n",
        "    handler( *args )\n",
        "  File \"/usr/lib/pymodules/python2.7/nipype/interfaces/base.py\", line 354, in _xor_warn\n",
        "    raise IOError(msg)\n",
        "IOError: Input \"bar\" is mutually exclusive with input \"foo\", which is already set\n"
       ]
      },
      {
       "output_type": "stream",
       "stream": "stdout",
       "text": [
        "\n",
        "131208-21:52:53,469 traits ERROR:\n",
        "\t Exception occurred in traits notification handler for object: \n",
        "bar = <undefined>\n",
        "foo = 1\n",
        "kung = 10.0\n",
        ", trait: bar, old value: <undefined>, new value: 1\n",
        "Traceback (most recent call last):\n",
        "  File \"/usr/lib/python2.7/dist-packages/traits/trait_notifiers.py\", line 536, in rebind_call_4\n",
        "    object, trait_name, old, new )\n",
        "  File \"/usr/lib/python2.7/dist-packages/traits/trait_notifiers.py\", line 448, in dispatch\n",
        "    handler( *args )\n",
        "  File \"/usr/lib/pymodules/python2.7/nipype/interfaces/base.py\", line 354, in _xor_warn\n",
        "    raise IOError(msg)\n",
        "IOError: Input \"bar\" is mutually exclusive with input \"foo\", which is already set\n"
       ]
      },
      {
       "output_type": "stream",
       "stream": "stderr",
       "text": [
        "Exception occurred in traits notification handler for object: \n",
        "foo = 1\n",
        ", trait: foo, old value: <undefined>, new value: 1\n",
        "Traceback (most recent call last):\n",
        "  File \"/usr/lib/python2.7/dist-packages/traits/trait_notifiers.py\", line 536, in rebind_call_4\n",
        "    object, trait_name, old, new )\n",
        "  File \"/usr/lib/python2.7/dist-packages/traits/trait_notifiers.py\", line 448, in dispatch\n",
        "    handler( *args )\n",
        "  File \"/usr/lib/pymodules/python2.7/nipype/interfaces/base.py\", line 388, in _deprecated_warn\n",
        "    raise TraitError(msg)\n",
        "TraitError: Input foo in interface DeprecationSpec1 is deprecated. Will be removed or raise an error as of release 0.1 \n"
       ]
      },
      {
       "output_type": "stream",
       "stream": "stdout",
       "text": [
        "131208-21:52:53,471 traits ERROR:\n",
        "\t Exception occurred in traits notification handler for object: \n",
        "foo = 1\n",
        ", trait: foo, old value: <undefined>, new value: 1\n",
        "Traceback (most recent call last):\n",
        "  File \"/usr/lib/python2.7/dist-packages/traits/trait_notifiers.py\", line 536, in rebind_call_4\n",
        "    object, trait_name, old, new )\n",
        "  File \"/usr/lib/python2.7/dist-packages/traits/trait_notifiers.py\", line 448, in dispatch\n",
        "    handler( *args )\n",
        "  File \"/usr/lib/pymodules/python2.7/nipype/interfaces/base.py\", line 388, in _deprecated_warn\n",
        "    raise TraitError(msg)\n",
        "TraitError: Input foo in interface DeprecationSpec1 is deprecated. Will be removed or raise an error as of release 0.1 \n"
       ]
      },
      {
       "output_type": "stream",
       "stream": "stderr",
       "text": [
        "Exception occurred in traits notification handler for object: \n",
        "foo = 1\n",
        ", trait: foo, old value: <undefined>, new value: 1\n",
        "Traceback (most recent call last):\n",
        "  File \"/usr/lib/python2.7/dist-packages/traits/trait_notifiers.py\", line 536, in rebind_call_4\n",
        "    object, trait_name, old, new )\n",
        "  File \"/usr/lib/python2.7/dist-packages/traits/trait_notifiers.py\", line 448, in dispatch\n",
        "    handler( *args )\n",
        "  File \"/usr/lib/pymodules/python2.7/nipype/interfaces/base.py\", line 388, in _deprecated_warn\n",
        "    raise TraitError(msg)\n",
        "TraitError: Input foo in interface DeprecationSpec1numeric is deprecated. Will be removed or raise an error as of release 0.1 \n"
       ]
      },
      {
       "output_type": "stream",
       "stream": "stdout",
       "text": [
        "131208-21:52:53,472 traits ERROR:\n",
        "\t Exception occurred in traits notification handler for object: \n",
        "foo = 1\n",
        ", trait: foo, old value: <undefined>, new value: 1\n",
        "Traceback (most recent call last):\n",
        "  File \"/usr/lib/python2.7/dist-packages/traits/trait_notifiers.py\", line 536, in rebind_call_4\n",
        "    object, trait_name, old, new )\n",
        "  File \"/usr/lib/python2.7/dist-packages/traits/trait_notifiers.py\", line 448, in dispatch\n",
        "    handler( *args )\n",
        "  File \"/usr/lib/pymodules/python2.7/nipype/interfaces/base.py\", line 388, in _deprecated_warn\n",
        "    raise TraitError(msg)\n",
        "TraitError: Input foo in interface DeprecationSpec1numeric is deprecated. Will be removed or raise an error as of release 0.1 \n"
       ]
      },
      {
       "output_type": "stream",
       "stream": "stderr",
       "text": [
        "Exception occurred in traits notification handler for object: \n",
        "foo = 1\n",
        ", trait: foo, old value: <undefined>, new value: 1\n",
        "Traceback (most recent call last):\n",
        "  File \"/usr/lib/python2.7/dist-packages/traits/trait_notifiers.py\", line 536, in rebind_call_4\n",
        "    object, trait_name, old, new )\n",
        "  File \"/usr/lib/python2.7/dist-packages/traits/trait_notifiers.py\", line 448, in dispatch\n",
        "    handler( *args )\n",
        "  File \"/usr/lib/pymodules/python2.7/nipype/interfaces/base.py\", line 382, in _deprecated_warn\n",
        "    trait_spec.new_name)\n",
        "TraitError: Input foo in interface DeprecationSpec2 is deprecated. Replacement trait bar not found\n"
       ]
      },
      {
       "output_type": "stream",
       "stream": "stdout",
       "text": [
        "131208-21:52:53,473 traits ERROR:\n",
        "\t Exception occurred in traits notification handler for object: \n",
        "foo = 1\n",
        ", trait: foo, old value: <undefined>, new value: 1\n",
        "Traceback (most recent call last):\n",
        "  File \"/usr/lib/python2.7/dist-packages/traits/trait_notifiers.py\", line 536, in rebind_call_4\n",
        "    object, trait_name, old, new )\n",
        "  File \"/usr/lib/python2.7/dist-packages/traits/trait_notifiers.py\", line 448, in dispatch\n",
        "    handler( *args )\n",
        "  File \"/usr/lib/pymodules/python2.7/nipype/interfaces/base.py\", line 382, in _deprecated_warn\n",
        "    trait_spec.new_name)\n",
        "TraitError: Input foo in interface DeprecationSpec2 is deprecated. Replacement trait bar not found\n"
       ]
      },
      {
       "output_type": "stream",
       "stream": "stdout",
       "text": [
        "Implements common interface functionality.\n",
        "\n",
        "Implements\n",
        "----------\n",
        "\n",
        "* Initializes inputs/outputs from input_spec/output_spec\n",
        "* Provides help based on input_spec and output_spec\n",
        "* Checks for mandatory inputs before running an interface\n",
        "* Runs an interface and returns results\n",
        "* Determines which inputs should be copied or linked to cwd\n",
        "\n",
        "This class does not implement aggregate_outputs, input_spec or\n",
        "output_spec. These should be defined by derived classes.\n",
        "\n",
        "This class cannot be instantiated.\n",
        "\n",
        "Inputs::\n",
        "\n",
        "\t[Mandatory]\n",
        "\n",
        "\t[Optional]\n",
        "\tignore_exception: (a boolean, nipype default value: False)\n",
        "\t\tPrint an error message instead of throwing an exception in case the interface fails to\n",
        "\t\trun\n",
        "\n",
        "Outputs::\n",
        "\n",
        "\tNone\n",
        "\n",
        "\n",
        "Inputs::\n",
        "\n",
        "\t[Mandatory]\n",
        "\tgoo: (an integer)\n",
        "\t\ta random int\n",
        "\n",
        "\t[Optional]\n",
        "\tfoo: (an integer)\n",
        "\t\ta random int\n",
        "\thoo: (an integer, nipype default value: 0)\n",
        "\t\ta random int\n",
        "\twoo: (a file name)\n",
        "\t\ta file\n",
        "\tzoo: (a file name)\n",
        "\t\ta file\n",
        "\n",
        "Outputs::\n",
        "\n",
        "\tNone\n",
        "\n",
        "\n",
        "Inputs::\n",
        "\n",
        "\t[Mandatory]\n",
        "\tgoo: (an integer)\n",
        "\t\ta random int\n",
        "\n",
        "\t[Optional]\n",
        "\tfoo: (an integer)\n",
        "\t\ta random int\n",
        "\thoo: (an integer, nipype default value: 0)\n",
        "\t\ta random int\n",
        "\twoo: (a file name)\n",
        "\t\ta file\n",
        "\tzoo: (a file name)\n",
        "\t\ta file\n",
        "\n",
        "Outputs::\n",
        "\n",
        "\tfoo: (an integer)\n",
        "\t\ta random int\n",
        "\n",
        "S'def make_random_array(size):\\n\\n    return np.random.randn(size, size)\\n'\n",
        "."
       ]
      },
      {
       "output_type": "stream",
       "stream": "stdout",
       "text": [
        "\n"
       ]
      },
      {
       "output_type": "stream",
       "stream": "stderr",
       "text": [
        "/usr/lib/pymodules/python2.7/nipype/interfaces/base.py:390: UserWarning: Input foo in interface DeprecationSpec3 is deprecated. Will be removed or raise an error as of release 1000 It has been replaced by bar.\n",
        "  warn(msg)\n",
        "/usr/lib/pymodules/python2.7/nipype/interfaces/base.py:393: UserWarning: Unsetting foo and setting bar.\n",
        "  trait_spec.new_name))\n",
        "/usr/lib/pymodules/python2.7/nipype/interfaces/base.py:390: UserWarning: Input foo in interface DeprecationSpec3 is deprecated. Will be removed or raise an error as of release 1000 It has been replaced by bar.\n",
        "  warn(msg)\n",
        "/usr/lib/pymodules/python2.7/nipype/interfaces/base.py:393: UserWarning: Unsetting foo and setting bar.\n",
        "  trait_spec.new_name))\n"
       ]
      },
      {
       "ename": "KeyboardInterrupt",
       "evalue": "",
       "output_type": "pyerr",
       "traceback": [
        "\u001b[0;31m---------------------------------------------------------------------------\u001b[0m\n\u001b[0;31mKeyboardInterrupt\u001b[0m                         Traceback (most recent call last)",
        "\u001b[0;32m<ipython-input-1-01ddfc257879>\u001b[0m in \u001b[0;36m<module>\u001b[0;34m()\u001b[0m\n\u001b[1;32m      6\u001b[0m \u001b[0mnipype\u001b[0m\u001b[0;34m.\u001b[0m\u001b[0mlogging\u001b[0m\u001b[0;34m.\u001b[0m\u001b[0mupdate_logging\u001b[0m\u001b[0;34m(\u001b[0m\u001b[0mnipype\u001b[0m\u001b[0;34m.\u001b[0m\u001b[0mconfig\u001b[0m\u001b[0;34m)\u001b[0m\u001b[0;34m\u001b[0m\u001b[0m\n\u001b[1;32m      7\u001b[0m \u001b[0;34m\u001b[0m\u001b[0m\n\u001b[0;32m----> 8\u001b[0;31m \u001b[0mnipype\u001b[0m\u001b[0;34m.\u001b[0m\u001b[0mtest\u001b[0m\u001b[0;34m(\u001b[0m\u001b[0mverbose\u001b[0m\u001b[0;34m=\u001b[0m\u001b[0;36m0\u001b[0m\u001b[0;34m)\u001b[0m \u001b[0;31m# Increase verbosity parameter for more info\u001b[0m\u001b[0;34m\u001b[0m\u001b[0m\n\u001b[0m",
        "\u001b[0;32m/usr/lib/pymodules/python2.7/nipype/__init__.pyc\u001b[0m in \u001b[0;36mtest\u001b[0;34m(self, label, verbose, extra_argv, doctests, coverage)\u001b[0m\n\u001b[1;32m     36\u001b[0m             \u001b[0mextra_argv\u001b[0m\u001b[0;34m.\u001b[0m\u001b[0mappend\u001b[0m\u001b[0;34m(\u001b[0m\u001b[0;34m'--exe'\u001b[0m\u001b[0;34m)\u001b[0m\u001b[0;34m\u001b[0m\u001b[0m\n\u001b[1;32m     37\u001b[0m         super(NipypeTester, self).test(label, verbose, extra_argv,\n\u001b[0;32m---> 38\u001b[0;31m                                        doctests, coverage)\n\u001b[0m\u001b[1;32m     39\u001b[0m     \u001b[0;31m# Grab the docstring from numpy\u001b[0m\u001b[0;34m\u001b[0m\u001b[0;34m\u001b[0m\u001b[0m\n\u001b[1;32m     40\u001b[0m     \u001b[0;31m#test.__doc__ = Tester.test.__doc__\u001b[0m\u001b[0;34m\u001b[0m\u001b[0;34m\u001b[0m\u001b[0m\n",
        "\u001b[0;32m/usr/lib/python2.7/dist-packages/numpy/testing/nosetester.pyc\u001b[0m in \u001b[0;36mtest\u001b[0;34m(self, label, verbose, extra_argv, doctests, coverage)\u001b[0m\n\u001b[1;32m    325\u001b[0m                                                doctests, coverage)\n\u001b[1;32m    326\u001b[0m         \u001b[0;32mfrom\u001b[0m \u001b[0mnoseclasses\u001b[0m \u001b[0;32mimport\u001b[0m \u001b[0mNumpyTestProgram\u001b[0m\u001b[0;34m\u001b[0m\u001b[0m\n\u001b[0;32m--> 327\u001b[0;31m         \u001b[0mt\u001b[0m \u001b[0;34m=\u001b[0m \u001b[0mNumpyTestProgram\u001b[0m\u001b[0;34m(\u001b[0m\u001b[0margv\u001b[0m\u001b[0;34m=\u001b[0m\u001b[0margv\u001b[0m\u001b[0;34m,\u001b[0m \u001b[0mexit\u001b[0m\u001b[0;34m=\u001b[0m\u001b[0mFalse\u001b[0m\u001b[0;34m,\u001b[0m \u001b[0mplugins\u001b[0m\u001b[0;34m=\u001b[0m\u001b[0mplugins\u001b[0m\u001b[0;34m)\u001b[0m\u001b[0;34m\u001b[0m\u001b[0m\n\u001b[0m\u001b[1;32m    328\u001b[0m         \u001b[0;32mreturn\u001b[0m \u001b[0mt\u001b[0m\u001b[0;34m.\u001b[0m\u001b[0mresult\u001b[0m\u001b[0;34m\u001b[0m\u001b[0m\n\u001b[1;32m    329\u001b[0m \u001b[0;34m\u001b[0m\u001b[0m\n",
        "\u001b[0;32m/usr/lib/python2.7/dist-packages/nose/core.pyc\u001b[0m in \u001b[0;36m__init__\u001b[0;34m(self, module, defaultTest, argv, testRunner, testLoader, env, config, suite, exit, plugins, addplugins)\u001b[0m\n\u001b[1;32m    116\u001b[0m             \u001b[0mself\u001b[0m\u001b[0;34m,\u001b[0m \u001b[0mmodule\u001b[0m\u001b[0;34m=\u001b[0m\u001b[0mmodule\u001b[0m\u001b[0;34m,\u001b[0m \u001b[0mdefaultTest\u001b[0m\u001b[0;34m=\u001b[0m\u001b[0mdefaultTest\u001b[0m\u001b[0;34m,\u001b[0m\u001b[0;34m\u001b[0m\u001b[0m\n\u001b[1;32m    117\u001b[0m             \u001b[0margv\u001b[0m\u001b[0;34m=\u001b[0m\u001b[0margv\u001b[0m\u001b[0;34m,\u001b[0m \u001b[0mtestRunner\u001b[0m\u001b[0;34m=\u001b[0m\u001b[0mtestRunner\u001b[0m\u001b[0;34m,\u001b[0m \u001b[0mtestLoader\u001b[0m\u001b[0;34m=\u001b[0m\u001b[0mtestLoader\u001b[0m\u001b[0;34m,\u001b[0m\u001b[0;34m\u001b[0m\u001b[0m\n\u001b[0;32m--> 118\u001b[0;31m             **extra_args)\n\u001b[0m\u001b[1;32m    119\u001b[0m \u001b[0;34m\u001b[0m\u001b[0m\n\u001b[1;32m    120\u001b[0m     \u001b[0;32mdef\u001b[0m \u001b[0mmakeConfig\u001b[0m\u001b[0;34m(\u001b[0m\u001b[0mself\u001b[0m\u001b[0;34m,\u001b[0m \u001b[0menv\u001b[0m\u001b[0;34m,\u001b[0m \u001b[0mplugins\u001b[0m\u001b[0;34m=\u001b[0m\u001b[0mNone\u001b[0m\u001b[0;34m)\u001b[0m\u001b[0;34m:\u001b[0m\u001b[0;34m\u001b[0m\u001b[0m\n",
        "\u001b[0;32m/usr/lib/python2.7/unittest/main.pyc\u001b[0m in \u001b[0;36m__init__\u001b[0;34m(self, module, defaultTest, argv, testRunner, testLoader, exit, verbosity, failfast, catchbreak, buffer)\u001b[0m\n\u001b[1;32m     93\u001b[0m         \u001b[0mself\u001b[0m\u001b[0;34m.\u001b[0m\u001b[0mprogName\u001b[0m \u001b[0;34m=\u001b[0m \u001b[0mos\u001b[0m\u001b[0;34m.\u001b[0m\u001b[0mpath\u001b[0m\u001b[0;34m.\u001b[0m\u001b[0mbasename\u001b[0m\u001b[0;34m(\u001b[0m\u001b[0margv\u001b[0m\u001b[0;34m[\u001b[0m\u001b[0;36m0\u001b[0m\u001b[0;34m]\u001b[0m\u001b[0;34m)\u001b[0m\u001b[0;34m\u001b[0m\u001b[0m\n\u001b[1;32m     94\u001b[0m         \u001b[0mself\u001b[0m\u001b[0;34m.\u001b[0m\u001b[0mparseArgs\u001b[0m\u001b[0;34m(\u001b[0m\u001b[0margv\u001b[0m\u001b[0;34m)\u001b[0m\u001b[0;34m\u001b[0m\u001b[0m\n\u001b[0;32m---> 95\u001b[0;31m         \u001b[0mself\u001b[0m\u001b[0;34m.\u001b[0m\u001b[0mrunTests\u001b[0m\u001b[0;34m(\u001b[0m\u001b[0;34m)\u001b[0m\u001b[0;34m\u001b[0m\u001b[0m\n\u001b[0m\u001b[1;32m     96\u001b[0m \u001b[0;34m\u001b[0m\u001b[0m\n\u001b[1;32m     97\u001b[0m     \u001b[0;32mdef\u001b[0m \u001b[0musageExit\u001b[0m\u001b[0;34m(\u001b[0m\u001b[0mself\u001b[0m\u001b[0;34m,\u001b[0m \u001b[0mmsg\u001b[0m\u001b[0;34m=\u001b[0m\u001b[0mNone\u001b[0m\u001b[0;34m)\u001b[0m\u001b[0;34m:\u001b[0m\u001b[0;34m\u001b[0m\u001b[0m\n",
        "\u001b[0;32m/usr/lib/python2.7/dist-packages/numpy/testing/noseclasses.pyc\u001b[0m in \u001b[0;36mrunTests\u001b[0;34m(self)\u001b[0m\n\u001b[1;32m    347\u001b[0m             \u001b[0mself\u001b[0m\u001b[0;34m.\u001b[0m\u001b[0mtestRunner\u001b[0m \u001b[0;34m=\u001b[0m \u001b[0mplug_runner\u001b[0m\u001b[0;34m\u001b[0m\u001b[0m\n\u001b[1;32m    348\u001b[0m \u001b[0;34m\u001b[0m\u001b[0m\n\u001b[0;32m--> 349\u001b[0;31m         \u001b[0mself\u001b[0m\u001b[0;34m.\u001b[0m\u001b[0mresult\u001b[0m \u001b[0;34m=\u001b[0m \u001b[0mself\u001b[0m\u001b[0;34m.\u001b[0m\u001b[0mtestRunner\u001b[0m\u001b[0;34m.\u001b[0m\u001b[0mrun\u001b[0m\u001b[0;34m(\u001b[0m\u001b[0mself\u001b[0m\u001b[0;34m.\u001b[0m\u001b[0mtest\u001b[0m\u001b[0;34m)\u001b[0m\u001b[0;34m\u001b[0m\u001b[0m\n\u001b[0m\u001b[1;32m    350\u001b[0m         \u001b[0mself\u001b[0m\u001b[0;34m.\u001b[0m\u001b[0msuccess\u001b[0m \u001b[0;34m=\u001b[0m \u001b[0mself\u001b[0m\u001b[0;34m.\u001b[0m\u001b[0mresult\u001b[0m\u001b[0;34m.\u001b[0m\u001b[0mwasSuccessful\u001b[0m\u001b[0;34m(\u001b[0m\u001b[0;34m)\u001b[0m\u001b[0;34m\u001b[0m\u001b[0m\n\u001b[1;32m    351\u001b[0m         \u001b[0;32mreturn\u001b[0m \u001b[0mself\u001b[0m\u001b[0;34m.\u001b[0m\u001b[0msuccess\u001b[0m\u001b[0;34m\u001b[0m\u001b[0m\n",
        "\u001b[0;32m/usr/lib/python2.7/dist-packages/nose/core.pyc\u001b[0m in \u001b[0;36mrun\u001b[0;34m(self, test)\u001b[0m\n\u001b[1;32m     59\u001b[0m         \u001b[0mresult\u001b[0m \u001b[0;34m=\u001b[0m \u001b[0mself\u001b[0m\u001b[0;34m.\u001b[0m\u001b[0m_makeResult\u001b[0m\u001b[0;34m(\u001b[0m\u001b[0;34m)\u001b[0m\u001b[0;34m\u001b[0m\u001b[0m\n\u001b[1;32m     60\u001b[0m         \u001b[0mstart\u001b[0m \u001b[0;34m=\u001b[0m \u001b[0mtime\u001b[0m\u001b[0;34m.\u001b[0m\u001b[0mtime\u001b[0m\u001b[0;34m(\u001b[0m\u001b[0;34m)\u001b[0m\u001b[0;34m\u001b[0m\u001b[0m\n\u001b[0;32m---> 61\u001b[0;31m         \u001b[0mtest\u001b[0m\u001b[0;34m(\u001b[0m\u001b[0mresult\u001b[0m\u001b[0;34m)\u001b[0m\u001b[0;34m\u001b[0m\u001b[0m\n\u001b[0m\u001b[1;32m     62\u001b[0m         \u001b[0mstop\u001b[0m \u001b[0;34m=\u001b[0m \u001b[0mtime\u001b[0m\u001b[0;34m.\u001b[0m\u001b[0mtime\u001b[0m\u001b[0;34m(\u001b[0m\u001b[0;34m)\u001b[0m\u001b[0;34m\u001b[0m\u001b[0m\n\u001b[1;32m     63\u001b[0m         \u001b[0mresult\u001b[0m\u001b[0;34m.\u001b[0m\u001b[0mprintErrors\u001b[0m\u001b[0;34m(\u001b[0m\u001b[0;34m)\u001b[0m\u001b[0;34m\u001b[0m\u001b[0m\n",
        "\u001b[0;32m/usr/lib/python2.7/dist-packages/nose/suite.pyc\u001b[0m in \u001b[0;36m__call__\u001b[0;34m(self, *arg, **kw)\u001b[0m\n\u001b[1;32m    174\u001b[0m     \u001b[0;31m# 2.3 compat -- force 2.4 call sequence\u001b[0m\u001b[0;34m\u001b[0m\u001b[0;34m\u001b[0m\u001b[0m\n\u001b[1;32m    175\u001b[0m     \u001b[0;32mdef\u001b[0m \u001b[0m__call__\u001b[0m\u001b[0;34m(\u001b[0m\u001b[0mself\u001b[0m\u001b[0;34m,\u001b[0m \u001b[0;34m*\u001b[0m\u001b[0marg\u001b[0m\u001b[0;34m,\u001b[0m \u001b[0;34m**\u001b[0m\u001b[0mkw\u001b[0m\u001b[0;34m)\u001b[0m\u001b[0;34m:\u001b[0m\u001b[0;34m\u001b[0m\u001b[0m\n\u001b[0;32m--> 176\u001b[0;31m         \u001b[0;32mreturn\u001b[0m \u001b[0mself\u001b[0m\u001b[0;34m.\u001b[0m\u001b[0mrun\u001b[0m\u001b[0;34m(\u001b[0m\u001b[0;34m*\u001b[0m\u001b[0marg\u001b[0m\u001b[0;34m,\u001b[0m \u001b[0;34m**\u001b[0m\u001b[0mkw\u001b[0m\u001b[0;34m)\u001b[0m\u001b[0;34m\u001b[0m\u001b[0m\n\u001b[0m\u001b[1;32m    177\u001b[0m \u001b[0;34m\u001b[0m\u001b[0m\n\u001b[1;32m    178\u001b[0m     \u001b[0;32mdef\u001b[0m \u001b[0mexc_info\u001b[0m\u001b[0;34m(\u001b[0m\u001b[0mself\u001b[0m\u001b[0;34m)\u001b[0m\u001b[0;34m:\u001b[0m\u001b[0;34m\u001b[0m\u001b[0m\n",
        "\u001b[0;32m/usr/lib/python2.7/dist-packages/nose/suite.pyc\u001b[0m in \u001b[0;36mrun\u001b[0;34m(self, result)\u001b[0m\n\u001b[1;32m    221\u001b[0m                 \u001b[0;31m# so the cases need the original result, to avoid proxy\u001b[0m\u001b[0;34m\u001b[0m\u001b[0;34m\u001b[0m\u001b[0m\n\u001b[1;32m    222\u001b[0m                 \u001b[0;31m# chains\u001b[0m\u001b[0;34m\u001b[0m\u001b[0;34m\u001b[0m\u001b[0m\n\u001b[0;32m--> 223\u001b[0;31m                 \u001b[0mtest\u001b[0m\u001b[0;34m(\u001b[0m\u001b[0morig\u001b[0m\u001b[0;34m)\u001b[0m\u001b[0;34m\u001b[0m\u001b[0m\n\u001b[0m\u001b[1;32m    224\u001b[0m         \u001b[0;32mfinally\u001b[0m\u001b[0;34m:\u001b[0m\u001b[0;34m\u001b[0m\u001b[0m\n\u001b[1;32m    225\u001b[0m             \u001b[0mself\u001b[0m\u001b[0;34m.\u001b[0m\u001b[0mhas_run\u001b[0m \u001b[0;34m=\u001b[0m \u001b[0mTrue\u001b[0m\u001b[0;34m\u001b[0m\u001b[0m\n",
        "\u001b[0;32m/usr/lib/python2.7/dist-packages/nose/suite.pyc\u001b[0m in \u001b[0;36m__call__\u001b[0;34m(self, *arg, **kw)\u001b[0m\n\u001b[1;32m    174\u001b[0m     \u001b[0;31m# 2.3 compat -- force 2.4 call sequence\u001b[0m\u001b[0;34m\u001b[0m\u001b[0;34m\u001b[0m\u001b[0m\n\u001b[1;32m    175\u001b[0m     \u001b[0;32mdef\u001b[0m \u001b[0m__call__\u001b[0m\u001b[0;34m(\u001b[0m\u001b[0mself\u001b[0m\u001b[0;34m,\u001b[0m \u001b[0;34m*\u001b[0m\u001b[0marg\u001b[0m\u001b[0;34m,\u001b[0m \u001b[0;34m**\u001b[0m\u001b[0mkw\u001b[0m\u001b[0;34m)\u001b[0m\u001b[0;34m:\u001b[0m\u001b[0;34m\u001b[0m\u001b[0m\n\u001b[0;32m--> 176\u001b[0;31m         \u001b[0;32mreturn\u001b[0m \u001b[0mself\u001b[0m\u001b[0;34m.\u001b[0m\u001b[0mrun\u001b[0m\u001b[0;34m(\u001b[0m\u001b[0;34m*\u001b[0m\u001b[0marg\u001b[0m\u001b[0;34m,\u001b[0m \u001b[0;34m**\u001b[0m\u001b[0mkw\u001b[0m\u001b[0;34m)\u001b[0m\u001b[0;34m\u001b[0m\u001b[0m\n\u001b[0m\u001b[1;32m    177\u001b[0m \u001b[0;34m\u001b[0m\u001b[0m\n\u001b[1;32m    178\u001b[0m     \u001b[0;32mdef\u001b[0m \u001b[0mexc_info\u001b[0m\u001b[0;34m(\u001b[0m\u001b[0mself\u001b[0m\u001b[0;34m)\u001b[0m\u001b[0;34m:\u001b[0m\u001b[0;34m\u001b[0m\u001b[0m\n",
        "\u001b[0;32m/usr/lib/python2.7/dist-packages/nose/suite.pyc\u001b[0m in \u001b[0;36mrun\u001b[0;34m(self, result)\u001b[0m\n\u001b[1;32m    221\u001b[0m                 \u001b[0;31m# so the cases need the original result, to avoid proxy\u001b[0m\u001b[0;34m\u001b[0m\u001b[0;34m\u001b[0m\u001b[0m\n\u001b[1;32m    222\u001b[0m                 \u001b[0;31m# chains\u001b[0m\u001b[0;34m\u001b[0m\u001b[0;34m\u001b[0m\u001b[0m\n\u001b[0;32m--> 223\u001b[0;31m                 \u001b[0mtest\u001b[0m\u001b[0;34m(\u001b[0m\u001b[0morig\u001b[0m\u001b[0;34m)\u001b[0m\u001b[0;34m\u001b[0m\u001b[0m\n\u001b[0m\u001b[1;32m    224\u001b[0m         \u001b[0;32mfinally\u001b[0m\u001b[0;34m:\u001b[0m\u001b[0;34m\u001b[0m\u001b[0m\n\u001b[1;32m    225\u001b[0m             \u001b[0mself\u001b[0m\u001b[0;34m.\u001b[0m\u001b[0mhas_run\u001b[0m \u001b[0;34m=\u001b[0m \u001b[0mTrue\u001b[0m\u001b[0;34m\u001b[0m\u001b[0m\n",
        "\u001b[0;32m/usr/lib/python2.7/dist-packages/nose/suite.pyc\u001b[0m in \u001b[0;36m__call__\u001b[0;34m(self, *arg, **kw)\u001b[0m\n\u001b[1;32m    174\u001b[0m     \u001b[0;31m# 2.3 compat -- force 2.4 call sequence\u001b[0m\u001b[0;34m\u001b[0m\u001b[0;34m\u001b[0m\u001b[0m\n\u001b[1;32m    175\u001b[0m     \u001b[0;32mdef\u001b[0m \u001b[0m__call__\u001b[0m\u001b[0;34m(\u001b[0m\u001b[0mself\u001b[0m\u001b[0;34m,\u001b[0m \u001b[0;34m*\u001b[0m\u001b[0marg\u001b[0m\u001b[0;34m,\u001b[0m \u001b[0;34m**\u001b[0m\u001b[0mkw\u001b[0m\u001b[0;34m)\u001b[0m\u001b[0;34m:\u001b[0m\u001b[0;34m\u001b[0m\u001b[0m\n\u001b[0;32m--> 176\u001b[0;31m         \u001b[0;32mreturn\u001b[0m \u001b[0mself\u001b[0m\u001b[0;34m.\u001b[0m\u001b[0mrun\u001b[0m\u001b[0;34m(\u001b[0m\u001b[0;34m*\u001b[0m\u001b[0marg\u001b[0m\u001b[0;34m,\u001b[0m \u001b[0;34m**\u001b[0m\u001b[0mkw\u001b[0m\u001b[0;34m)\u001b[0m\u001b[0;34m\u001b[0m\u001b[0m\n\u001b[0m\u001b[1;32m    177\u001b[0m \u001b[0;34m\u001b[0m\u001b[0m\n\u001b[1;32m    178\u001b[0m     \u001b[0;32mdef\u001b[0m \u001b[0mexc_info\u001b[0m\u001b[0;34m(\u001b[0m\u001b[0mself\u001b[0m\u001b[0;34m)\u001b[0m\u001b[0;34m:\u001b[0m\u001b[0;34m\u001b[0m\u001b[0m\n",
        "\u001b[0;32m/usr/lib/python2.7/dist-packages/nose/suite.pyc\u001b[0m in \u001b[0;36mrun\u001b[0;34m(self, result)\u001b[0m\n\u001b[1;32m    221\u001b[0m                 \u001b[0;31m# so the cases need the original result, to avoid proxy\u001b[0m\u001b[0;34m\u001b[0m\u001b[0;34m\u001b[0m\u001b[0m\n\u001b[1;32m    222\u001b[0m                 \u001b[0;31m# chains\u001b[0m\u001b[0;34m\u001b[0m\u001b[0;34m\u001b[0m\u001b[0m\n\u001b[0;32m--> 223\u001b[0;31m                 \u001b[0mtest\u001b[0m\u001b[0;34m(\u001b[0m\u001b[0morig\u001b[0m\u001b[0;34m)\u001b[0m\u001b[0;34m\u001b[0m\u001b[0m\n\u001b[0m\u001b[1;32m    224\u001b[0m         \u001b[0;32mfinally\u001b[0m\u001b[0;34m:\u001b[0m\u001b[0;34m\u001b[0m\u001b[0m\n\u001b[1;32m    225\u001b[0m             \u001b[0mself\u001b[0m\u001b[0;34m.\u001b[0m\u001b[0mhas_run\u001b[0m \u001b[0;34m=\u001b[0m \u001b[0mTrue\u001b[0m\u001b[0;34m\u001b[0m\u001b[0m\n",
        "\u001b[0;32m/usr/lib/python2.7/dist-packages/nose/suite.pyc\u001b[0m in \u001b[0;36m__call__\u001b[0;34m(self, *arg, **kw)\u001b[0m\n\u001b[1;32m    174\u001b[0m     \u001b[0;31m# 2.3 compat -- force 2.4 call sequence\u001b[0m\u001b[0;34m\u001b[0m\u001b[0;34m\u001b[0m\u001b[0m\n\u001b[1;32m    175\u001b[0m     \u001b[0;32mdef\u001b[0m \u001b[0m__call__\u001b[0m\u001b[0;34m(\u001b[0m\u001b[0mself\u001b[0m\u001b[0;34m,\u001b[0m \u001b[0;34m*\u001b[0m\u001b[0marg\u001b[0m\u001b[0;34m,\u001b[0m \u001b[0;34m**\u001b[0m\u001b[0mkw\u001b[0m\u001b[0;34m)\u001b[0m\u001b[0;34m:\u001b[0m\u001b[0;34m\u001b[0m\u001b[0m\n\u001b[0;32m--> 176\u001b[0;31m         \u001b[0;32mreturn\u001b[0m \u001b[0mself\u001b[0m\u001b[0;34m.\u001b[0m\u001b[0mrun\u001b[0m\u001b[0;34m(\u001b[0m\u001b[0;34m*\u001b[0m\u001b[0marg\u001b[0m\u001b[0;34m,\u001b[0m \u001b[0;34m**\u001b[0m\u001b[0mkw\u001b[0m\u001b[0;34m)\u001b[0m\u001b[0;34m\u001b[0m\u001b[0m\n\u001b[0m\u001b[1;32m    177\u001b[0m \u001b[0;34m\u001b[0m\u001b[0m\n\u001b[1;32m    178\u001b[0m     \u001b[0;32mdef\u001b[0m \u001b[0mexc_info\u001b[0m\u001b[0;34m(\u001b[0m\u001b[0mself\u001b[0m\u001b[0;34m)\u001b[0m\u001b[0;34m:\u001b[0m\u001b[0;34m\u001b[0m\u001b[0m\n",
        "\u001b[0;32m/usr/lib/python2.7/dist-packages/nose/suite.pyc\u001b[0m in \u001b[0;36mrun\u001b[0;34m(self, result)\u001b[0m\n\u001b[1;32m    221\u001b[0m                 \u001b[0;31m# so the cases need the original result, to avoid proxy\u001b[0m\u001b[0;34m\u001b[0m\u001b[0;34m\u001b[0m\u001b[0m\n\u001b[1;32m    222\u001b[0m                 \u001b[0;31m# chains\u001b[0m\u001b[0;34m\u001b[0m\u001b[0;34m\u001b[0m\u001b[0m\n\u001b[0;32m--> 223\u001b[0;31m                 \u001b[0mtest\u001b[0m\u001b[0;34m(\u001b[0m\u001b[0morig\u001b[0m\u001b[0;34m)\u001b[0m\u001b[0;34m\u001b[0m\u001b[0m\n\u001b[0m\u001b[1;32m    224\u001b[0m         \u001b[0;32mfinally\u001b[0m\u001b[0;34m:\u001b[0m\u001b[0;34m\u001b[0m\u001b[0m\n\u001b[1;32m    225\u001b[0m             \u001b[0mself\u001b[0m\u001b[0;34m.\u001b[0m\u001b[0mhas_run\u001b[0m \u001b[0;34m=\u001b[0m \u001b[0mTrue\u001b[0m\u001b[0;34m\u001b[0m\u001b[0m\n",
        "\u001b[0;32m/usr/lib/python2.7/dist-packages/nose/suite.pyc\u001b[0m in \u001b[0;36m__call__\u001b[0;34m(self, *arg, **kw)\u001b[0m\n\u001b[1;32m    174\u001b[0m     \u001b[0;31m# 2.3 compat -- force 2.4 call sequence\u001b[0m\u001b[0;34m\u001b[0m\u001b[0;34m\u001b[0m\u001b[0m\n\u001b[1;32m    175\u001b[0m     \u001b[0;32mdef\u001b[0m \u001b[0m__call__\u001b[0m\u001b[0;34m(\u001b[0m\u001b[0mself\u001b[0m\u001b[0;34m,\u001b[0m \u001b[0;34m*\u001b[0m\u001b[0marg\u001b[0m\u001b[0;34m,\u001b[0m \u001b[0;34m**\u001b[0m\u001b[0mkw\u001b[0m\u001b[0;34m)\u001b[0m\u001b[0;34m:\u001b[0m\u001b[0;34m\u001b[0m\u001b[0m\n\u001b[0;32m--> 176\u001b[0;31m         \u001b[0;32mreturn\u001b[0m \u001b[0mself\u001b[0m\u001b[0;34m.\u001b[0m\u001b[0mrun\u001b[0m\u001b[0;34m(\u001b[0m\u001b[0;34m*\u001b[0m\u001b[0marg\u001b[0m\u001b[0;34m,\u001b[0m \u001b[0;34m**\u001b[0m\u001b[0mkw\u001b[0m\u001b[0;34m)\u001b[0m\u001b[0;34m\u001b[0m\u001b[0m\n\u001b[0m\u001b[1;32m    177\u001b[0m \u001b[0;34m\u001b[0m\u001b[0m\n\u001b[1;32m    178\u001b[0m     \u001b[0;32mdef\u001b[0m \u001b[0mexc_info\u001b[0m\u001b[0;34m(\u001b[0m\u001b[0mself\u001b[0m\u001b[0;34m)\u001b[0m\u001b[0;34m:\u001b[0m\u001b[0;34m\u001b[0m\u001b[0m\n",
        "\u001b[0;32m/usr/lib/python2.7/dist-packages/nose/suite.pyc\u001b[0m in \u001b[0;36mrun\u001b[0;34m(self, result)\u001b[0m\n\u001b[1;32m    221\u001b[0m                 \u001b[0;31m# so the cases need the original result, to avoid proxy\u001b[0m\u001b[0;34m\u001b[0m\u001b[0;34m\u001b[0m\u001b[0m\n\u001b[1;32m    222\u001b[0m                 \u001b[0;31m# chains\u001b[0m\u001b[0;34m\u001b[0m\u001b[0;34m\u001b[0m\u001b[0m\n\u001b[0;32m--> 223\u001b[0;31m                 \u001b[0mtest\u001b[0m\u001b[0;34m(\u001b[0m\u001b[0morig\u001b[0m\u001b[0;34m)\u001b[0m\u001b[0;34m\u001b[0m\u001b[0m\n\u001b[0m\u001b[1;32m    224\u001b[0m         \u001b[0;32mfinally\u001b[0m\u001b[0;34m:\u001b[0m\u001b[0;34m\u001b[0m\u001b[0m\n\u001b[1;32m    225\u001b[0m             \u001b[0mself\u001b[0m\u001b[0;34m.\u001b[0m\u001b[0mhas_run\u001b[0m \u001b[0;34m=\u001b[0m \u001b[0mTrue\u001b[0m\u001b[0;34m\u001b[0m\u001b[0m\n",
        "\u001b[0;32m/usr/lib/python2.7/dist-packages/nose/suite.pyc\u001b[0m in \u001b[0;36m__call__\u001b[0;34m(self, *arg, **kw)\u001b[0m\n\u001b[1;32m    174\u001b[0m     \u001b[0;31m# 2.3 compat -- force 2.4 call sequence\u001b[0m\u001b[0;34m\u001b[0m\u001b[0;34m\u001b[0m\u001b[0m\n\u001b[1;32m    175\u001b[0m     \u001b[0;32mdef\u001b[0m \u001b[0m__call__\u001b[0m\u001b[0;34m(\u001b[0m\u001b[0mself\u001b[0m\u001b[0;34m,\u001b[0m \u001b[0;34m*\u001b[0m\u001b[0marg\u001b[0m\u001b[0;34m,\u001b[0m \u001b[0;34m**\u001b[0m\u001b[0mkw\u001b[0m\u001b[0;34m)\u001b[0m\u001b[0;34m:\u001b[0m\u001b[0;34m\u001b[0m\u001b[0m\n\u001b[0;32m--> 176\u001b[0;31m         \u001b[0;32mreturn\u001b[0m \u001b[0mself\u001b[0m\u001b[0;34m.\u001b[0m\u001b[0mrun\u001b[0m\u001b[0;34m(\u001b[0m\u001b[0;34m*\u001b[0m\u001b[0marg\u001b[0m\u001b[0;34m,\u001b[0m \u001b[0;34m**\u001b[0m\u001b[0mkw\u001b[0m\u001b[0;34m)\u001b[0m\u001b[0;34m\u001b[0m\u001b[0m\n\u001b[0m\u001b[1;32m    177\u001b[0m \u001b[0;34m\u001b[0m\u001b[0m\n\u001b[1;32m    178\u001b[0m     \u001b[0;32mdef\u001b[0m \u001b[0mexc_info\u001b[0m\u001b[0;34m(\u001b[0m\u001b[0mself\u001b[0m\u001b[0;34m)\u001b[0m\u001b[0;34m:\u001b[0m\u001b[0;34m\u001b[0m\u001b[0m\n",
        "\u001b[0;32m/usr/lib/python2.7/dist-packages/nose/suite.pyc\u001b[0m in \u001b[0;36mrun\u001b[0;34m(self, result)\u001b[0m\n\u001b[1;32m    221\u001b[0m                 \u001b[0;31m# so the cases need the original result, to avoid proxy\u001b[0m\u001b[0;34m\u001b[0m\u001b[0;34m\u001b[0m\u001b[0m\n\u001b[1;32m    222\u001b[0m                 \u001b[0;31m# chains\u001b[0m\u001b[0;34m\u001b[0m\u001b[0;34m\u001b[0m\u001b[0m\n\u001b[0;32m--> 223\u001b[0;31m                 \u001b[0mtest\u001b[0m\u001b[0;34m(\u001b[0m\u001b[0morig\u001b[0m\u001b[0;34m)\u001b[0m\u001b[0;34m\u001b[0m\u001b[0m\n\u001b[0m\u001b[1;32m    224\u001b[0m         \u001b[0;32mfinally\u001b[0m\u001b[0;34m:\u001b[0m\u001b[0;34m\u001b[0m\u001b[0m\n\u001b[1;32m    225\u001b[0m             \u001b[0mself\u001b[0m\u001b[0;34m.\u001b[0m\u001b[0mhas_run\u001b[0m \u001b[0;34m=\u001b[0m \u001b[0mTrue\u001b[0m\u001b[0;34m\u001b[0m\u001b[0m\n",
        "\u001b[0;32m/usr/lib/python2.7/dist-packages/nose/suite.pyc\u001b[0m in \u001b[0;36m__call__\u001b[0;34m(self, *arg, **kw)\u001b[0m\n\u001b[1;32m    174\u001b[0m     \u001b[0;31m# 2.3 compat -- force 2.4 call sequence\u001b[0m\u001b[0;34m\u001b[0m\u001b[0;34m\u001b[0m\u001b[0m\n\u001b[1;32m    175\u001b[0m     \u001b[0;32mdef\u001b[0m \u001b[0m__call__\u001b[0m\u001b[0;34m(\u001b[0m\u001b[0mself\u001b[0m\u001b[0;34m,\u001b[0m \u001b[0;34m*\u001b[0m\u001b[0marg\u001b[0m\u001b[0;34m,\u001b[0m \u001b[0;34m**\u001b[0m\u001b[0mkw\u001b[0m\u001b[0;34m)\u001b[0m\u001b[0;34m:\u001b[0m\u001b[0;34m\u001b[0m\u001b[0m\n\u001b[0;32m--> 176\u001b[0;31m         \u001b[0;32mreturn\u001b[0m \u001b[0mself\u001b[0m\u001b[0;34m.\u001b[0m\u001b[0mrun\u001b[0m\u001b[0;34m(\u001b[0m\u001b[0;34m*\u001b[0m\u001b[0marg\u001b[0m\u001b[0;34m,\u001b[0m \u001b[0;34m**\u001b[0m\u001b[0mkw\u001b[0m\u001b[0;34m)\u001b[0m\u001b[0;34m\u001b[0m\u001b[0m\n\u001b[0m\u001b[1;32m    177\u001b[0m \u001b[0;34m\u001b[0m\u001b[0m\n\u001b[1;32m    178\u001b[0m     \u001b[0;32mdef\u001b[0m \u001b[0mexc_info\u001b[0m\u001b[0;34m(\u001b[0m\u001b[0mself\u001b[0m\u001b[0;34m)\u001b[0m\u001b[0;34m:\u001b[0m\u001b[0;34m\u001b[0m\u001b[0m\n",
        "\u001b[0;32m/usr/lib/python2.7/dist-packages/nose/suite.pyc\u001b[0m in \u001b[0;36mrun\u001b[0;34m(self, result)\u001b[0m\n\u001b[1;32m    206\u001b[0m             \u001b[0mresult\u001b[0m\u001b[0;34m,\u001b[0m \u001b[0morig\u001b[0m \u001b[0;34m=\u001b[0m \u001b[0mresult\u001b[0m\u001b[0;34m,\u001b[0m \u001b[0mresult\u001b[0m\u001b[0;34m\u001b[0m\u001b[0m\n\u001b[1;32m    207\u001b[0m         \u001b[0;32mtry\u001b[0m\u001b[0;34m:\u001b[0m\u001b[0;34m\u001b[0m\u001b[0m\n\u001b[0;32m--> 208\u001b[0;31m             \u001b[0mself\u001b[0m\u001b[0;34m.\u001b[0m\u001b[0msetUp\u001b[0m\u001b[0;34m(\u001b[0m\u001b[0;34m)\u001b[0m\u001b[0;34m\u001b[0m\u001b[0m\n\u001b[0m\u001b[1;32m    209\u001b[0m         \u001b[0;32mexcept\u001b[0m \u001b[0mKeyboardInterrupt\u001b[0m\u001b[0;34m:\u001b[0m\u001b[0;34m\u001b[0m\u001b[0m\n\u001b[1;32m    210\u001b[0m             \u001b[0;32mraise\u001b[0m\u001b[0;34m\u001b[0m\u001b[0m\n",
        "\u001b[0;32m/usr/lib/python2.7/dist-packages/nose/suite.pyc\u001b[0m in \u001b[0;36msetUp\u001b[0;34m(self)\u001b[0m\n\u001b[1;32m    267\u001b[0m     \u001b[0;32mdef\u001b[0m \u001b[0msetUp\u001b[0m\u001b[0;34m(\u001b[0m\u001b[0mself\u001b[0m\u001b[0;34m)\u001b[0m\u001b[0;34m:\u001b[0m\u001b[0;34m\u001b[0m\u001b[0m\n\u001b[1;32m    268\u001b[0m         \u001b[0mlog\u001b[0m\u001b[0;34m.\u001b[0m\u001b[0mdebug\u001b[0m\u001b[0;34m(\u001b[0m\u001b[0;34m\"suite %s setUp called, tests: %s\"\u001b[0m\u001b[0;34m,\u001b[0m \u001b[0mid\u001b[0m\u001b[0;34m(\u001b[0m\u001b[0mself\u001b[0m\u001b[0;34m)\u001b[0m\u001b[0;34m,\u001b[0m \u001b[0mself\u001b[0m\u001b[0;34m.\u001b[0m\u001b[0m_tests\u001b[0m\u001b[0;34m)\u001b[0m\u001b[0;34m\u001b[0m\u001b[0m\n\u001b[0;32m--> 269\u001b[0;31m         \u001b[0;32mif\u001b[0m \u001b[0;32mnot\u001b[0m \u001b[0mself\u001b[0m\u001b[0;34m:\u001b[0m\u001b[0;34m\u001b[0m\u001b[0m\n\u001b[0m\u001b[1;32m    270\u001b[0m             \u001b[0;31m# I have no tests\u001b[0m\u001b[0;34m\u001b[0m\u001b[0;34m\u001b[0m\u001b[0m\n\u001b[1;32m    271\u001b[0m             \u001b[0mlog\u001b[0m\u001b[0;34m.\u001b[0m\u001b[0mdebug\u001b[0m\u001b[0;34m(\u001b[0m\u001b[0;34m\"suite %s has no tests\"\u001b[0m\u001b[0;34m,\u001b[0m \u001b[0mid\u001b[0m\u001b[0;34m(\u001b[0m\u001b[0mself\u001b[0m\u001b[0;34m)\u001b[0m\u001b[0;34m)\u001b[0m\u001b[0;34m\u001b[0m\u001b[0m\n",
        "\u001b[0;32m/usr/lib/python2.7/dist-packages/nose/suite.pyc\u001b[0m in \u001b[0;36m__nonzero__\u001b[0;34m(self)\u001b[0m\n\u001b[1;32m     82\u001b[0m             \u001b[0;32mreturn\u001b[0m \u001b[0mFalse\u001b[0m\u001b[0;34m\u001b[0m\u001b[0m\n\u001b[1;32m     83\u001b[0m         \u001b[0;32mtry\u001b[0m\u001b[0;34m:\u001b[0m\u001b[0;34m\u001b[0m\u001b[0m\n\u001b[0;32m---> 84\u001b[0;31m             \u001b[0mtest\u001b[0m \u001b[0;34m=\u001b[0m \u001b[0mself\u001b[0m\u001b[0;34m.\u001b[0m\u001b[0mtest_generator\u001b[0m\u001b[0;34m.\u001b[0m\u001b[0mnext\u001b[0m\u001b[0;34m(\u001b[0m\u001b[0;34m)\u001b[0m\u001b[0;34m\u001b[0m\u001b[0m\n\u001b[0m\u001b[1;32m     85\u001b[0m             \u001b[0;32mif\u001b[0m \u001b[0mtest\u001b[0m \u001b[0;32mis\u001b[0m \u001b[0;32mnot\u001b[0m \u001b[0mNone\u001b[0m\u001b[0;34m:\u001b[0m\u001b[0;34m\u001b[0m\u001b[0m\n\u001b[1;32m     86\u001b[0m                 \u001b[0mself\u001b[0m\u001b[0;34m.\u001b[0m\u001b[0m_precache\u001b[0m\u001b[0;34m.\u001b[0m\u001b[0mappend\u001b[0m\u001b[0;34m(\u001b[0m\u001b[0mtest\u001b[0m\u001b[0;34m)\u001b[0m\u001b[0;34m\u001b[0m\u001b[0m\n",
        "\u001b[0;32m/usr/lib/python2.7/dist-packages/nose/loader.pyc\u001b[0m in \u001b[0;36mgenerate\u001b[0;34m(g, m)\u001b[0m\n\u001b[1;32m    229\u001b[0m         \u001b[0;32mdef\u001b[0m \u001b[0mgenerate\u001b[0m\u001b[0;34m(\u001b[0m\u001b[0mg\u001b[0m\u001b[0;34m=\u001b[0m\u001b[0mgenerator\u001b[0m\u001b[0;34m,\u001b[0m \u001b[0mm\u001b[0m\u001b[0;34m=\u001b[0m\u001b[0mmodule\u001b[0m\u001b[0;34m)\u001b[0m\u001b[0;34m:\u001b[0m\u001b[0;34m\u001b[0m\u001b[0m\n\u001b[1;32m    230\u001b[0m             \u001b[0;32mtry\u001b[0m\u001b[0;34m:\u001b[0m\u001b[0;34m\u001b[0m\u001b[0m\n\u001b[0;32m--> 231\u001b[0;31m                 \u001b[0;32mfor\u001b[0m \u001b[0mtest\u001b[0m \u001b[0;32min\u001b[0m \u001b[0mg\u001b[0m\u001b[0;34m(\u001b[0m\u001b[0;34m)\u001b[0m\u001b[0;34m:\u001b[0m\u001b[0;34m\u001b[0m\u001b[0m\n\u001b[0m\u001b[1;32m    232\u001b[0m                     \u001b[0mtest_func\u001b[0m\u001b[0;34m,\u001b[0m \u001b[0marg\u001b[0m \u001b[0;34m=\u001b[0m \u001b[0mself\u001b[0m\u001b[0;34m.\u001b[0m\u001b[0mparseGeneratedTest\u001b[0m\u001b[0;34m(\u001b[0m\u001b[0mtest\u001b[0m\u001b[0;34m)\u001b[0m\u001b[0;34m\u001b[0m\u001b[0m\n\u001b[1;32m    233\u001b[0m                     \u001b[0;32mif\u001b[0m \u001b[0;32mnot\u001b[0m \u001b[0mcallable\u001b[0m\u001b[0;34m(\u001b[0m\u001b[0mtest_func\u001b[0m\u001b[0;34m)\u001b[0m\u001b[0;34m:\u001b[0m\u001b[0;34m\u001b[0m\u001b[0m\n",
        "\u001b[0;32m/usr/lib/pymodules/python2.7/nipype/pipeline/plugins/tests/test_multiproc_nondaemon.pyc\u001b[0m in \u001b[0;36mtest_run_multiproc_nondaemon_true\u001b[0;34m()\u001b[0m\n\u001b[1;32m    140\u001b[0m \u001b[0;32mdef\u001b[0m \u001b[0mtest_run_multiproc_nondaemon_true\u001b[0m\u001b[0;34m(\u001b[0m\u001b[0;34m)\u001b[0m\u001b[0;34m:\u001b[0m\u001b[0;34m\u001b[0m\u001b[0m\n\u001b[1;32m    141\u001b[0m     \u001b[0;31m# with nondaemon_flag = True, the execution should succeed\u001b[0m\u001b[0;34m\u001b[0m\u001b[0;34m\u001b[0m\u001b[0m\n\u001b[0;32m--> 142\u001b[0;31m     \u001b[0mresult\u001b[0m \u001b[0;34m=\u001b[0m \u001b[0mrun_multiproc_nondaemon_with_flag\u001b[0m\u001b[0;34m(\u001b[0m\u001b[0mTrue\u001b[0m\u001b[0;34m)\u001b[0m\u001b[0;34m\u001b[0m\u001b[0m\n\u001b[0m\u001b[1;32m    143\u001b[0m     \u001b[0;32myield\u001b[0m \u001b[0massert_equal\u001b[0m\u001b[0;34m,\u001b[0m \u001b[0mresult\u001b[0m\u001b[0;34m,\u001b[0m \u001b[0;36m180\u001b[0m \u001b[0;31m# n_procs (2) * numberOfThreads (2) * 45 == 180\u001b[0m\u001b[0;34m\u001b[0m\u001b[0m\n\u001b[1;32m    144\u001b[0m \u001b[0;34m\u001b[0m\u001b[0m\n",
        "\u001b[0;32m/usr/lib/pymodules/python2.7/nipype/pipeline/plugins/tests/test_multiproc_nondaemon.pyc\u001b[0m in \u001b[0;36mrun_multiproc_nondaemon_with_flag\u001b[0;34m(nondaemon_flag)\u001b[0m\n\u001b[1;32m    112\u001b[0m     execgraph = pipe.run(plugin=\"MultiProc\",\n\u001b[1;32m    113\u001b[0m                          plugin_args={'n_procs': 2,\n\u001b[0;32m--> 114\u001b[0;31m                                       'non_daemon': nondaemon_flag})\n\u001b[0m\u001b[1;32m    115\u001b[0m \u001b[0;34m\u001b[0m\u001b[0m\n\u001b[1;32m    116\u001b[0m     \u001b[0mnames\u001b[0m \u001b[0;34m=\u001b[0m \u001b[0;34m[\u001b[0m\u001b[0;34m'.'\u001b[0m\u001b[0;34m.\u001b[0m\u001b[0mjoin\u001b[0m\u001b[0;34m(\u001b[0m\u001b[0;34m(\u001b[0m\u001b[0mnode\u001b[0m\u001b[0;34m.\u001b[0m\u001b[0m_hierarchy\u001b[0m\u001b[0;34m,\u001b[0m\u001b[0mnode\u001b[0m\u001b[0;34m.\u001b[0m\u001b[0mname\u001b[0m\u001b[0;34m)\u001b[0m\u001b[0;34m)\u001b[0m \u001b[0;32mfor\u001b[0m \u001b[0mnode\u001b[0m \u001b[0;32min\u001b[0m \u001b[0mexecgraph\u001b[0m\u001b[0;34m.\u001b[0m\u001b[0mnodes\u001b[0m\u001b[0;34m(\u001b[0m\u001b[0;34m)\u001b[0m\u001b[0;34m]\u001b[0m\u001b[0;34m\u001b[0m\u001b[0m\n",
        "\u001b[0;32m/usr/lib/pymodules/python2.7/nipype/pipeline/engine.pyc\u001b[0m in \u001b[0;36mrun\u001b[0;34m(self, plugin, plugin_args, updatehash)\u001b[0m\n\u001b[1;32m    667\u001b[0m         \u001b[0;32mif\u001b[0m \u001b[0mstr2bool\u001b[0m\u001b[0;34m(\u001b[0m\u001b[0mself\u001b[0m\u001b[0;34m.\u001b[0m\u001b[0mconfig\u001b[0m\u001b[0;34m[\u001b[0m\u001b[0;34m'execution'\u001b[0m\u001b[0;34m]\u001b[0m\u001b[0;34m[\u001b[0m\u001b[0;34m'create_report'\u001b[0m\u001b[0;34m]\u001b[0m\u001b[0;34m)\u001b[0m\u001b[0;34m:\u001b[0m\u001b[0;34m\u001b[0m\u001b[0m\n\u001b[1;32m    668\u001b[0m             \u001b[0mself\u001b[0m\u001b[0;34m.\u001b[0m\u001b[0m_write_report_info\u001b[0m\u001b[0;34m(\u001b[0m\u001b[0mself\u001b[0m\u001b[0;34m.\u001b[0m\u001b[0mbase_dir\u001b[0m\u001b[0;34m,\u001b[0m \u001b[0mself\u001b[0m\u001b[0;34m.\u001b[0m\u001b[0mname\u001b[0m\u001b[0;34m,\u001b[0m \u001b[0mexecgraph\u001b[0m\u001b[0;34m)\u001b[0m\u001b[0;34m\u001b[0m\u001b[0m\n\u001b[0;32m--> 669\u001b[0;31m         \u001b[0mrunner\u001b[0m\u001b[0;34m.\u001b[0m\u001b[0mrun\u001b[0m\u001b[0;34m(\u001b[0m\u001b[0mexecgraph\u001b[0m\u001b[0;34m,\u001b[0m \u001b[0mupdatehash\u001b[0m\u001b[0;34m=\u001b[0m\u001b[0mupdatehash\u001b[0m\u001b[0;34m,\u001b[0m \u001b[0mconfig\u001b[0m\u001b[0;34m=\u001b[0m\u001b[0mself\u001b[0m\u001b[0;34m.\u001b[0m\u001b[0mconfig\u001b[0m\u001b[0;34m)\u001b[0m\u001b[0;34m\u001b[0m\u001b[0m\n\u001b[0m\u001b[1;32m    670\u001b[0m         \u001b[0;32mreturn\u001b[0m \u001b[0mexecgraph\u001b[0m\u001b[0;34m\u001b[0m\u001b[0m\n\u001b[1;32m    671\u001b[0m \u001b[0;34m\u001b[0m\u001b[0m\n",
        "\u001b[0;32m/usr/lib/pymodules/python2.7/nipype/pipeline/plugins/base.pyc\u001b[0m in \u001b[0;36mrun\u001b[0;34m(self, graph, config, updatehash)\u001b[0m\n\u001b[1;32m    251\u001b[0m                 self._send_procs_to_workers(updatehash=updatehash,\n\u001b[1;32m    252\u001b[0m                                             slots=slots, graph=graph)\n\u001b[0;32m--> 253\u001b[0;31m             \u001b[0msleep\u001b[0m\u001b[0;34m(\u001b[0m\u001b[0;36m2\u001b[0m\u001b[0;34m)\u001b[0m\u001b[0;34m\u001b[0m\u001b[0m\n\u001b[0m\u001b[1;32m    254\u001b[0m         \u001b[0mself\u001b[0m\u001b[0;34m.\u001b[0m\u001b[0m_remove_node_dirs\u001b[0m\u001b[0;34m(\u001b[0m\u001b[0;34m)\u001b[0m\u001b[0;34m\u001b[0m\u001b[0m\n\u001b[1;32m    255\u001b[0m         \u001b[0mreport_nodes_not_run\u001b[0m\u001b[0;34m(\u001b[0m\u001b[0mnotrun\u001b[0m\u001b[0;34m)\u001b[0m\u001b[0;34m\u001b[0m\u001b[0m\n",
        "\u001b[0;31mKeyboardInterrupt\u001b[0m: "
       ]
      }
     ],
     "prompt_number": 1
    },
    {
     "cell_type": "markdown",
     "metadata": {
      "slideshow": {
       "slide_type": "subslide"
      }
     },
     "source": [
      "If all goes well you will see an OK:\n",
      "\n",
      "    ----------------------------------------------------------------------\n",
      "    Ran 2497 tests in 68.486s\n",
      "\n",
      "    OK (SKIP=13)\n",
      "\n",
      "The number of tests and time will vary depending on which interfaces you have installed on your system."
     ]
    },
    {
     "cell_type": "code",
     "collapsed": false,
     "input": [
      "nipype.get_info()"
     ],
     "language": "python",
     "metadata": {},
     "outputs": [
      {
       "metadata": {},
       "output_type": "pyout",
       "prompt_number": 3,
       "text": [
        "{'commit_hash': '9595f27',\n",
        " 'commit_source': 'archive substitution',\n",
        " 'networkx_version': '1.6',\n",
        " 'nibabel_version': '1.3.0',\n",
        " 'numpy_version': '1.6.1',\n",
        " 'pkg_path': '/usr/lib/pymodules/python2.7/nipype',\n",
        " 'scipy_version': '0.12.0',\n",
        " 'sys_executable': '/usr/bin/python',\n",
        " 'sys_platform': 'linux2',\n",
        " 'sys_version': '2.7.3 (default, Sep 26 2013, 20:03:06) \\n[GCC 4.6.3]',\n",
        " 'traits_version': '4.0.0'}"
       ]
      }
     ],
     "prompt_number": 3
    },
    {
     "cell_type": "code",
     "collapsed": false,
     "input": [
      "nipype.__version__"
     ],
     "language": "python",
     "metadata": {},
     "outputs": [
      {
       "metadata": {},
       "output_type": "pyout",
       "prompt_number": 4,
       "text": [
        "'0.8.0'"
       ]
      }
     ],
     "prompt_number": 4
    },
    {
     "cell_type": "markdown",
     "metadata": {
      "slideshow": {
       "slide_type": "subslide"
      }
     },
     "source": [
      "# Environment and data setup\n",
      "\n",
      "Setting up your Ipython notebook environment and download some data to play with"
     ]
    },
    {
     "cell_type": "code",
     "collapsed": false,
     "input": [
      "%pylab inline"
     ],
     "language": "python",
     "metadata": {},
     "outputs": [
      {
       "output_type": "stream",
       "stream": "stdout",
       "text": [
        "Populating the interactive namespace from numpy and matplotlib\n"
       ]
      }
     ],
     "prompt_number": 5
    },
    {
     "cell_type": "code",
     "collapsed": false,
     "input": [
      "tutorial_dir = \"/SCR/nipype_tutorial\"\n",
      "!cp -rf /scr/adenauer1/nipype-tutorial {tutorial_dir}"
     ],
     "language": "python",
     "metadata": {},
     "outputs": [],
     "prompt_number": 18
    },
    {
     "cell_type": "markdown",
     "metadata": {
      "slideshow": {
       "slide_type": "slide"
      }
     },
     "source": [
      "# Step 2. Working with interfaces"
     ]
    },
    {
     "cell_type": "code",
     "collapsed": false,
     "input": [
      "import nipype.algorithms"
     ],
     "language": "python",
     "metadata": {},
     "outputs": [],
     "prompt_number": 11
    },
    {
     "cell_type": "code",
     "collapsed": false,
     "input": [
      "from nipype.interfaces.fsl import DTIFit\n",
      "from nipype.interfaces.spm import Realign"
     ],
     "language": "python",
     "metadata": {},
     "outputs": [],
     "prompt_number": 12
    },
    {
     "cell_type": "markdown",
     "metadata": {
      "slideshow": {
       "slide_type": "subslide"
      }
     },
     "source": [
      "### Finding interface inputs and outputs and examples"
     ]
    },
    {
     "cell_type": "code",
     "collapsed": false,
     "input": [
      "DTIFit.help()"
     ],
     "language": "python",
     "metadata": {},
     "outputs": [
      {
       "output_type": "stream",
       "stream": "stdout",
       "text": [
        "Wraps command **dtifit**\n",
        "\n",
        "Use FSL  dtifit command for fitting a diffusion tensor model at each\n",
        "voxel\n",
        "\n",
        "Example\n",
        "-------\n",
        "\n",
        ">>> from nipype.interfaces import fsl\n",
        ">>> dti = fsl.DTIFit()\n",
        ">>> dti.inputs.dwi = 'diffusion.nii'\n",
        ">>> dti.inputs.bvecs = 'bvecs'\n",
        ">>> dti.inputs.bvals = 'bvals'\n",
        ">>> dti.inputs.base_name = 'TP'\n",
        ">>> dti.inputs.mask = 'mask.nii'\n",
        ">>> dti.cmdline\n",
        "'dtifit -k diffusion.nii -o TP -m mask.nii -r bvecs -b bvals'\n",
        "\n",
        "Inputs::\n",
        "\n",
        "\t[Mandatory]\n",
        "\tbvals: (an existing file name)\n",
        "\t\tb values file\n",
        "\tbvecs: (an existing file name)\n",
        "\t\tb vectors file\n",
        "\tdwi: (an existing file name)\n",
        "\t\tdiffusion weighted image data file\n",
        "\tmask: (an existing file name)\n",
        "\t\tbet binary mask file\n",
        "\tterminal_output: ('stream' or 'allatonce' or 'file' or 'none')\n",
        "\t\tControl terminal output\n",
        "\n",
        "\t[Optional]\n",
        "\targs: (a string)\n",
        "\t\tAdditional parameters to the command\n",
        "\tbase_name: (a string, nipype default value: dtifit_)\n",
        "\t\tbase_name that all output files will start with\n",
        "\tcni: (an existing file name)\n",
        "\t\tinput counfound regressors\n",
        "\tenviron: (a dictionary with keys which are a value of type 'str' and with values which\n",
        "\t\t are a value of type 'str', nipype default value: {})\n",
        "\t\tEnvironment variables\n",
        "\tignore_exception: (a boolean, nipype default value: False)\n",
        "\t\tPrint an error message instead of throwing an exception in case the interface fails to\n",
        "\t\trun\n",
        "\tlittle_bit: (a boolean)\n",
        "\t\tonly process small area of brain\n",
        "\tmax_x: (an integer)\n",
        "\t\tmax x\n",
        "\tmax_y: (an integer)\n",
        "\t\tmax y\n",
        "\tmax_z: (an integer)\n",
        "\t\tmax z\n",
        "\tmin_x: (an integer)\n",
        "\t\tmin x\n",
        "\tmin_y: (an integer)\n",
        "\t\tmin y\n",
        "\tmin_z: (an integer)\n",
        "\t\tmin z\n",
        "\toutput_type: ('NIFTI_PAIR' or 'NIFTI_PAIR_GZ' or 'NIFTI_GZ' or 'NIFTI')\n",
        "\t\tFSL output type\n",
        "\tsave_tensor: (a boolean)\n",
        "\t\tsave the elements of the tensor\n",
        "\tsse: (a boolean)\n",
        "\t\toutput sum of squared errors\n",
        "\n",
        "Outputs::\n",
        "\n",
        "\tFA: (an existing file name)\n",
        "\t\tpath/name of file with the fractional anisotropy\n",
        "\tL1: (an existing file name)\n",
        "\t\tpath/name of file with the 1st eigenvalue\n",
        "\tL2: (an existing file name)\n",
        "\t\tpath/name of file with the 2nd eigenvalue\n",
        "\tL3: (an existing file name)\n",
        "\t\tpath/name of file with the 3rd eigenvalue\n",
        "\tMD: (an existing file name)\n",
        "\t\tpath/name of file with the mean diffusivity\n",
        "\tMO: (an existing file name)\n",
        "\t\tpath/name of file with the mode of anisotropy\n",
        "\tS0: (an existing file name)\n",
        "\t\tpath/name of file with the raw T2 signal with no diffusion weighting\n",
        "\tV1: (an existing file name)\n",
        "\t\tpath/name of file with the 1st eigenvector\n",
        "\tV2: (an existing file name)\n",
        "\t\tpath/name of file with the 2nd eigenvector\n",
        "\tV3: (an existing file name)\n",
        "\t\tpath/name of file with the 3rd eigenvector\n",
        "\ttensor: (an existing file name)\n",
        "\t\tpath/name of file with the 4D tensor volume\n",
        "\n"
       ]
      }
     ],
     "prompt_number": 13
    },
    {
     "cell_type": "code",
     "collapsed": false,
     "input": [
      "Realign.help()"
     ],
     "language": "python",
     "metadata": {},
     "outputs": [
      {
       "output_type": "stream",
       "stream": "stdout",
       "text": [
        "Use spm_realign for estimating within modality rigid body alignment\n",
        "\n",
        "http://www.fil.ion.ucl.ac.uk/spm/doc/manual.pdf#page=25\n",
        "\n",
        "Examples\n",
        "--------\n",
        "\n",
        ">>> import nipype.interfaces.spm as spm\n",
        ">>> realign = spm.Realign()\n",
        ">>> realign.inputs.in_files = 'functional.nii'\n",
        ">>> realign.inputs.register_to_mean = True\n",
        ">>> realign.run() # doctest: +SKIP\n",
        "\n",
        "Inputs::\n",
        "\n",
        "\t[Mandatory]\n",
        "\tin_files: (a list of items which are an existing file name or an existing file name)\n",
        "\t\tlist of filenames to realign\n",
        "\n",
        "\t[Optional]\n",
        "\tfwhm: (a floating point number >= 0.0)\n",
        "\t\tgaussian smoothing kernel width\n",
        "\tignore_exception: (a boolean, nipype default value: False)\n",
        "\t\tPrint an error message instead of throwing an exception in case the interface fails to\n",
        "\t\trun\n",
        "\tinterp: (0 <= an integer <= 7)\n",
        "\t\tdegree of b-spline used for interpolation\n",
        "\tjobtype: ('estwrite' or 'estimate' or 'write', nipype default value: estwrite)\n",
        "\t\tone of: estimate, write, estwrite\n",
        "\tmatlab_cmd: (a string)\n",
        "\t\tmatlab command to use\n",
        "\tmfile: (a boolean, nipype default value: True)\n",
        "\t\tRun m-code using m-file\n",
        "\tout_prefix: (a string, nipype default value: r)\n",
        "\t\trealigned output prefix\n",
        "\tpaths: (a directory name)\n",
        "\t\tPaths to add to matlabpath\n",
        "\tquality: (0.0 <= a floating point number <= 1.0)\n",
        "\t\t0.1 = fast, 1.0 = precise\n",
        "\tregister_to_mean: (a boolean)\n",
        "\t\tIndicate whether realignment is done to the mean image\n",
        "\tseparation: (a floating point number >= 0.0)\n",
        "\t\tsampling separation in mm\n",
        "\tuse_mcr: (a boolean)\n",
        "\t\tRun m-code using SPM MCR\n",
        "\tweight_img: (an existing file name)\n",
        "\t\tfilename of weighting image\n",
        "\twrap: (a list of from 3 to 3 items which are an integer)\n",
        "\t\tCheck if interpolation should wrap in [x,y,z]\n",
        "\twrite_interp: (0 <= an integer <= 7)\n",
        "\t\tdegree of b-spline used for interpolation\n",
        "\twrite_mask: (a boolean)\n",
        "\t\tTrue/False mask output image\n",
        "\twrite_which: (a list of items which are a value of type 'int', nipype default value: [1,\n",
        "\t\t 1])\n",
        "\t\tdetermines which images to reslice\n",
        "\twrite_wrap: (a list of from 3 to 3 items which are an integer)\n",
        "\t\tCheck if interpolation should wrap in [x,y,z]\n",
        "\n",
        "Outputs::\n",
        "\n",
        "\tmean_image: (an existing file name)\n",
        "\t\tMean image file from the realignment\n",
        "\trealigned_files: (a list of items which are an existing file name or an existing file\n",
        "\t\t name)\n",
        "\t\tRealigned files\n",
        "\trealignment_parameters: (an existing file name)\n",
        "\t\tEstimated translation and rotation parameters\n",
        "\n"
       ]
      }
     ],
     "prompt_number": 14
    },
    {
     "cell_type": "markdown",
     "metadata": {
      "slideshow": {
       "slide_type": "subslide"
      }
     },
     "source": [
      "### Creating a directory for running interfaces"
     ]
    },
    {
     "cell_type": "code",
     "collapsed": false,
     "input": [
      "import os\n",
      "from shutil import copyfile\n",
      "library_dir = os.path.join(tutorial_dir, 'as_a_library')\n",
      "if not os.path.exists(library_dir):\n",
      "    os.mkdir(library_dir)\n",
      "os.chdir(library_dir)"
     ],
     "language": "python",
     "metadata": {},
     "outputs": [],
     "prompt_number": 19
    },
    {
     "cell_type": "markdown",
     "metadata": {
      "slideshow": {
       "slide_type": "subslide"
      }
     },
     "source": [
      "## Executing interfaces"
     ]
    },
    {
     "cell_type": "code",
     "collapsed": false,
     "input": [
      "from nipype.interfaces.freesurfer import MRIConvert\n",
      "convert = MRIConvert(in_file='../ds107/sub001/BOLD/task001_run001/bold.nii.gz',\n",
      "                     out_file='ds107.nii')\n",
      "print(convert.cmdline)\n",
      "results = convert.run(terminal_output='none')  # allatonce, stream (default), file"
     ],
     "language": "python",
     "metadata": {},
     "outputs": [
      {
       "output_type": "stream",
       "stream": "stdout",
       "text": [
        "mri_convert --input_volume ../ds107/sub001/BOLD/task001_run001/bold.nii.gz --output_volume ds107.nii\n"
       ]
      }
     ],
     "prompt_number": 20
    },
    {
     "cell_type": "code",
     "collapsed": false,
     "input": [
      "results.outputs"
     ],
     "language": "python",
     "metadata": {},
     "outputs": [
      {
       "metadata": {},
       "output_type": "pyout",
       "prompt_number": 21,
       "text": [
        "\n",
        "out_file = /SCR/nipype_tutorial/as_a_library/ds107.nii\n"
       ]
      }
     ],
     "prompt_number": 21
    },
    {
     "cell_type": "markdown",
     "metadata": {
      "slideshow": {
       "slide_type": "subslide"
      }
     },
     "source": [
      "## Other ways"
     ]
    },
    {
     "cell_type": "code",
     "collapsed": false,
     "input": [
      "convert = MRIConvert()\n",
      "convert.inputs.in_file='../ds107/sub001/BOLD/task001_run001/bold.nii.gz'\n",
      "convert.inputs.out_file='ds107.nii'\n",
      "convert.run()"
     ],
     "language": "python",
     "metadata": {},
     "outputs": [
      {
       "metadata": {},
       "output_type": "pyout",
       "prompt_number": 22,
       "text": [
        "<nipype.interfaces.base.InterfaceResult at 0x2be4150>"
       ]
      }
     ],
     "prompt_number": 22
    },
    {
     "cell_type": "code",
     "collapsed": false,
     "input": [
      "convert = MRIConvert()\n",
      "convert.run(in_file='../ds107/sub001/BOLD/task001_run001/bold.nii.gz',\n",
      "            out_file='ds107.nii')"
     ],
     "language": "python",
     "metadata": {},
     "outputs": [
      {
       "metadata": {},
       "output_type": "pyout",
       "prompt_number": 23,
       "text": [
        "<nipype.interfaces.base.InterfaceResult at 0x22eecd0>"
       ]
      }
     ],
     "prompt_number": 23
    },
    {
     "cell_type": "code",
     "collapsed": true,
     "input": [
      "convert.inputs"
     ],
     "language": "python",
     "metadata": {
      "slideshow": {
       "slide_type": "subslide"
      }
     },
     "outputs": [
      {
       "metadata": {},
       "output_type": "pyout",
       "prompt_number": 24,
       "text": [
        "\n",
        "apply_inv_transform = <undefined>\n",
        "apply_transform = <undefined>\n",
        "args = <undefined>\n",
        "ascii = <undefined>\n",
        "autoalign_matrix = <undefined>\n",
        "color_file = <undefined>\n",
        "conform = <undefined>\n",
        "conform_min = <undefined>\n",
        "conform_size = <undefined>\n",
        "crop_center = <undefined>\n",
        "crop_gdf = <undefined>\n",
        "crop_size = <undefined>\n",
        "cut_ends = <undefined>\n",
        "devolve_transform = <undefined>\n",
        "drop_n = <undefined>\n",
        "environ = {'SUBJECTS_DIR': '/afs/cbs.mpg.de/software/freesurfer/5.1.0/amd64/2.15/subjects'}\n",
        "fill_parcellation = <undefined>\n",
        "force_ras = <undefined>\n",
        "frame = <undefined>\n",
        "frame_subsample = <undefined>\n",
        "fwhm = <undefined>\n",
        "ignore_exception = False\n",
        "in_center = <undefined>\n",
        "in_file = ../ds107/sub001/BOLD/task001_run001/bold.nii.gz\n",
        "in_i_dir = <undefined>\n",
        "in_i_size = <undefined>\n",
        "in_info = <undefined>\n",
        "in_j_dir = <undefined>\n",
        "in_j_size = <undefined>\n",
        "in_k_dir = <undefined>\n",
        "in_k_size = <undefined>\n",
        "in_like = <undefined>\n",
        "in_matrix = <undefined>\n",
        "in_orientation = <undefined>\n",
        "in_scale = <undefined>\n",
        "in_stats = <undefined>\n",
        "in_type = <undefined>\n",
        "invert_contrast = <undefined>\n",
        "midframe = <undefined>\n",
        "no_change = <undefined>\n",
        "no_scale = <undefined>\n",
        "no_translate = <undefined>\n",
        "no_write = <undefined>\n",
        "out_center = <undefined>\n",
        "out_datatype = <undefined>\n",
        "out_file = ds107.nii\n",
        "out_i_count = <undefined>\n",
        "out_i_dir = <undefined>\n",
        "out_i_size = <undefined>\n",
        "out_info = <undefined>\n",
        "out_j_count = <undefined>\n",
        "out_j_dir = <undefined>\n",
        "out_j_size = <undefined>\n",
        "out_k_count = <undefined>\n",
        "out_k_dir = <undefined>\n",
        "out_k_size = <undefined>\n",
        "out_matrix = <undefined>\n",
        "out_orientation = <undefined>\n",
        "out_scale = <undefined>\n",
        "out_stats = <undefined>\n",
        "out_type = <undefined>\n",
        "parse_only = <undefined>\n",
        "read_only = <undefined>\n",
        "reorder = <undefined>\n",
        "resample_type = <undefined>\n",
        "reslice_like = <undefined>\n",
        "sdcm_list = <undefined>\n",
        "skip_n = <undefined>\n",
        "slice_bias = <undefined>\n",
        "slice_crop = <undefined>\n",
        "slice_reverse = <undefined>\n",
        "smooth_parcellation = <undefined>\n",
        "sphinx = <undefined>\n",
        "split = <undefined>\n",
        "status_file = <undefined>\n",
        "subject_name = <undefined>\n",
        "subjects_dir = /afs/cbs.mpg.de/software/freesurfer/5.1.0/amd64/2.15/subjects\n",
        "template_info = <undefined>\n",
        "template_type = <undefined>\n",
        "terminal_output = none\n",
        "unwarp_gradient = <undefined>\n",
        "vox_size = <undefined>\n",
        "zero_ge_z_offset = <undefined>\n",
        "zero_outlines = <undefined>\n"
       ]
      }
     ],
     "prompt_number": 24
    },
    {
     "cell_type": "markdown",
     "metadata": {
      "slideshow": {
       "slide_type": "subslide"
      }
     },
     "source": [
      "#### Look at only the defined inputs"
     ]
    },
    {
     "cell_type": "code",
     "collapsed": false,
     "input": [
      "results.inputs"
     ],
     "language": "python",
     "metadata": {
      "slideshow": {
       "slide_type": "-"
      }
     },
     "outputs": [
      {
       "metadata": {},
       "output_type": "pyout",
       "prompt_number": 25,
       "text": [
        "{'environ': {'SUBJECTS_DIR': '/afs/cbs.mpg.de/software/freesurfer/5.1.0/amd64/2.15/subjects'},\n",
        " 'ignore_exception': False,\n",
        " 'in_file': '../ds107/sub001/BOLD/task001_run001/bold.nii.gz',\n",
        " 'out_file': 'ds107.nii',\n",
        " 'subjects_dir': '/afs/cbs.mpg.de/software/freesurfer/5.1.0/amd64/2.15/subjects',\n",
        " 'terminal_output': 'none'}"
       ]
      }
     ],
     "prompt_number": 25
    },
    {
     "cell_type": "markdown",
     "metadata": {
      "slideshow": {
       "slide_type": "subslide"
      }
     },
     "source": [
      "### Experiment with other interfaces\n",
      "\n",
      "For example, run realignment with SPM"
     ]
    },
    {
     "cell_type": "code",
     "collapsed": false,
     "input": [
      "from nipype.interfaces.spm import Realign\n",
      "results1 = Realign(in_files='ds107.nii',\n",
      "                   register_to_mean=False).run()"
     ],
     "language": "python",
     "metadata": {},
     "outputs": [],
     "prompt_number": 26
    },
    {
     "cell_type": "markdown",
     "metadata": {
      "slideshow": {
       "slide_type": "subslide"
      }
     },
     "source": [
      "And now use FSL"
     ]
    },
    {
     "cell_type": "code",
     "collapsed": false,
     "input": [
      "from nipype.interfaces.fsl import MCFLIRT\n",
      "results2 = MCFLIRT(in_file='ds107.nii', ref_vol=0,\n",
      "                   save_plots=True,\n",
      "                   output_type=\"NIFTI\").run()"
     ],
     "language": "python",
     "metadata": {
      "slideshow": {
       "slide_type": "-"
      }
     },
     "outputs": [],
     "prompt_number": 34
    },
    {
     "cell_type": "markdown",
     "metadata": {
      "slideshow": {
       "slide_type": "subslide"
      }
     },
     "source": [
      "### Now we can look at some results"
     ]
    },
    {
     "cell_type": "code",
     "collapsed": false,
     "input": [
      "!ls"
     ],
     "language": "python",
     "metadata": {},
     "outputs": [
      {
       "output_type": "stream",
       "stream": "stdout",
       "text": [
        "ds107.mat\t  ds107_mcf.nii.gz.par\tmeands107.nii\t    rds107.nii\r\n",
        "ds107_mcf.nii\t  ds107_mcf.nii.par\tpyscript_realign.m  rp_ds107.txt\r\n",
        "ds107_mcf.nii.gz  ds107.nii\t\trds107.mat\r\n"
       ]
      }
     ],
     "prompt_number": 35
    },
    {
     "cell_type": "code",
     "collapsed": false,
     "input": [
      "print results1.runtime.duration, results2.runtime.duration\n",
      "subplot(211);plot(genfromtxt('ds107_mcf.nii.par')[:, 3:]);title('FSL')\n",
      "subplot(212);plot(genfromtxt('rp_ds107.txt')[:,:3]);title('SPM')"
     ],
     "language": "python",
     "metadata": {},
     "outputs": [
      {
       "output_type": "stream",
       "stream": "stdout",
       "text": [
        "54.6201279163 29.7355291843\n"
       ]
      },
      {
       "metadata": {},
       "output_type": "pyout",
       "prompt_number": 36,
       "text": [
        "<matplotlib.text.Text at 0x3a75650>"
       ]
      },
      {
       "metadata": {},
       "output_type": "display_data",
       "png": "[encoded data removed]",
       "text": [
        "<matplotlib.figure.Figure at 0x69a4550>"
       ]
      }
     ],
     "prompt_number": 36
    },
    {
     "cell_type": "markdown",
     "metadata": {},
     "source": [
      "#### if i execute the MCFLIRT line again, well, it runs again!"
     ]
    },
    {
     "cell_type": "markdown",
     "metadata": {
      "slideshow": {
       "slide_type": "slide"
      }
     },
     "source": [
      "# Step 3. Nipype caching"
     ]
    },
    {
     "cell_type": "code",
     "collapsed": false,
     "input": [
      "from nipype.caching import Memory\n",
      "mem = Memory('.')"
     ],
     "language": "python",
     "metadata": {},
     "outputs": [],
     "prompt_number": 37
    },
    {
     "cell_type": "markdown",
     "metadata": {},
     "source": [
      "### Create `cacheable` objects"
     ]
    },
    {
     "cell_type": "code",
     "collapsed": false,
     "input": [
      "spm_realign = mem.cache(Realign)\n",
      "fsl_realign = mem.cache(MCFLIRT)"
     ],
     "language": "python",
     "metadata": {},
     "outputs": [],
     "prompt_number": 38
    },
    {
     "cell_type": "markdown",
     "metadata": {
      "slideshow": {
       "slide_type": "subslide"
      }
     },
     "source": [
      "### Execute interfaces"
     ]
    },
    {
     "cell_type": "code",
     "collapsed": false,
     "input": [
      "spm_results = spm_realign(in_files='ds107.nii', register_to_mean=False)\n",
      "fsl_results = fsl_realign(in_file='ds107.nii', ref_vol=0, save_plots=True, output_type=\"NIFTI\")"
     ],
     "language": "python",
     "metadata": {},
     "outputs": [],
     "prompt_number": 41
    },
    {
     "cell_type": "code",
     "collapsed": false,
     "input": [
      "subplot(211);plot(genfromtxt(fsl_results.outputs.par_file)[:, 3:])\n",
      "subplot(212);plot(genfromtxt(spm_results.outputs.realignment_parameters)[:,:3])"
     ],
     "language": "python",
     "metadata": {},
     "outputs": [
      {
       "metadata": {},
       "output_type": "pyout",
       "prompt_number": 42,
       "text": [
        "[<matplotlib.lines.Line2D at 0x6b9ab50>,\n",
        " <matplotlib.lines.Line2D at 0x6b04850>,\n",
        " <matplotlib.lines.Line2D at 0x6b049d0>]"
       ]
      },
      {
       "metadata": {},
       "output_type": "display_data",
       "png": "[encoded data removed]",
       "text": [
        "<matplotlib.figure.Figure at 0x69a4690>"
       ]
      }
     ],
     "prompt_number": 42
    },
    {
     "cell_type": "code",
     "collapsed": false,
     "input": [
      "spm_results = spm_realign(in_files='ds107.nii', register_to_mean=False)\n",
      "fsl_results = fsl_realign(in_file='ds107.nii', ref_vol=0, save_plots=True, output_type=\"NIFTI\")"
     ],
     "language": "python",
     "metadata": {},
     "outputs": [],
     "prompt_number": 43
    },
    {
     "cell_type": "markdown",
     "metadata": {
      "slideshow": {
       "slide_type": "subslide"
      }
     },
     "source": [
      "# More caching"
     ]
    },
    {
     "cell_type": "code",
     "collapsed": false,
     "input": [
      "import os.path as op\n",
      "files = [op.join(tutorial_dir, 'ds107/sub001/BOLD/task001_run001/bold.nii.gz'),\n",
      "         op.join(tutorial_dir, 'ds107/sub001/BOLD/task001_run002/bold.nii.gz')]\n",
      "converter = mem.cache(MRIConvert)\n",
      "newfiles = []\n",
      "for idx, fname in enumerate(files):\n",
      "    newfiles.append(converter(in_file=fname,\n",
      "                              out_type='nii').outputs.out_file)"
     ],
     "language": "python",
     "metadata": {},
     "outputs": [],
     "prompt_number": 54
    },
    {
     "cell_type": "code",
     "collapsed": false,
     "input": [
      "os.chdir(tutorial_dir)"
     ],
     "language": "python",
     "metadata": {},
     "outputs": [],
     "prompt_number": 55
    },
    {
     "cell_type": "markdown",
     "metadata": {
      "slideshow": {
       "slide_type": "slide"
      }
     },
     "source": [
      "# Step 4: Nodes, Mapnodes and workflows\n",
      "\n",
      "**Where:**"
     ]
    },
    {
     "cell_type": "code",
     "collapsed": false,
     "input": [
      "from nipype.pipeline.engine import Node, MapNode, Workflow"
     ],
     "language": "python",
     "metadata": {},
     "outputs": [],
     "prompt_number": 56
    },
    {
     "cell_type": "markdown",
     "metadata": {},
     "source": [
      "**Node**:"
     ]
    },
    {
     "cell_type": "code",
     "collapsed": false,
     "input": [
      "realign_spm = Node(Realign(), name='motion_correct')"
     ],
     "language": "python",
     "metadata": {},
     "outputs": [],
     "prompt_number": 57
    },
    {
     "cell_type": "markdown",
     "metadata": {},
     "source": [
      "**Mapnode**:\n",
      "\n",
      "<img src=\"https://raw.github.com/satra/intro2nipype/master/images/mapnode.png\" width=\"30%\">"
     ]
    },
    {
     "cell_type": "code",
     "collapsed": false,
     "input": [
      "convert2nii = MapNode(MRIConvert(out_type='nii'),\n",
      "                      iterfield=['in_file'],\n",
      "                      name='convert2nii')"
     ],
     "language": "python",
     "metadata": {},
     "outputs": [],
     "prompt_number": 58
    },
    {
     "cell_type": "markdown",
     "metadata": {
      "slideshow": {
       "slide_type": "subslide"
      }
     },
     "source": [
      "# \"Hello World\" of Nipype workflows"
     ]
    },
    {
     "cell_type": "markdown",
     "metadata": {
      "slideshow": {
       "slide_type": "subslide"
      }
     },
     "source": [
      "### Connect them up:"
     ]
    },
    {
     "cell_type": "code",
     "collapsed": false,
     "input": [
      "realignflow = Workflow(name='realign_with_spm')\n",
      "realignflow.connect(convert2nii, 'out_file',\n",
      "                    realign_spm, 'in_files')"
     ],
     "language": "python",
     "metadata": {},
     "outputs": [],
     "prompt_number": 59
    },
    {
     "cell_type": "code",
     "collapsed": false,
     "input": [
      "convert2nii.inputs.in_file = files\n",
      "realign_spm.inputs.register_to_mean = False\n",
      "\n",
      "realignflow.base_dir = op.abspath('.')\n",
      "realignflow.run()"
     ],
     "language": "python",
     "metadata": {},
     "outputs": [
      {
       "metadata": {},
       "output_type": "pyout",
       "prompt_number": 61,
       "text": [
        "<networkx.classes.digraph.DiGraph at 0x6b10710>"
       ]
      }
     ],
     "prompt_number": 61
    },
    {
     "cell_type": "markdown",
     "metadata": {
      "slideshow": {
       "slide_type": "subslide"
      }
     },
     "source": [
      "#Visualize the workflow"
     ]
    },
    {
     "cell_type": "code",
     "collapsed": false,
     "input": [
      "realignflow.write_graph()"
     ],
     "language": "python",
     "metadata": {},
     "outputs": [],
     "prompt_number": 62
    },
    {
     "cell_type": "code",
     "collapsed": false,
     "input": [
      "from IPython.core.display import Image\n",
      "Image('realign_with_spm/graph.dot.png')"
     ],
     "language": "python",
     "metadata": {},
     "outputs": [
      {
       "metadata": {},
       "output_type": "pyout",
       "png": "[encoded data removed]",
       "prompt_number": 63,
       "text": [
        "<IPython.core.display.Image at 0x6b10250>"
       ]
      }
     ],
     "prompt_number": 63
    },
    {
     "cell_type": "code",
     "collapsed": false,
     "input": [
      "realignflow.write_graph(graph2use='orig')\n",
      "Image('realign_with_spm/graph_detailed.dot.png')"
     ],
     "language": "python",
     "metadata": {
      "slideshow": {
       "slide_type": "subslide"
      }
     },
     "outputs": [
      {
       "metadata": {},
       "output_type": "pyout",
       "png": "[encoded data removed]",
       "prompt_number": 64,
       "text": [
        "<IPython.core.display.Image at 0x6b15d90>"
       ]
      }
     ],
     "prompt_number": 64
    },
    {
     "cell_type": "markdown",
     "metadata": {
      "slideshow": {
       "slide_type": "slide"
      }
     },
     "source": [
      "# Step 5. Getting and saving data\n",
      "\n",
      "### Instead of assigning data ourselves, let's *glob* it"
     ]
    },
    {
     "cell_type": "code",
     "collapsed": false,
     "input": [
      "os.chdir(tutorial_dir)"
     ],
     "language": "python",
     "metadata": {},
     "outputs": [],
     "prompt_number": 65
    },
    {
     "cell_type": "code",
     "collapsed": false,
     "input": [
      "from nipype.interfaces.io import DataGrabber, DataFinder\n",
      "ds = Node(DataGrabber(infields=['subject_id'], outfields=['func']),\n",
      "          name='datasource')\n",
      "ds.inputs.base_directory = opap('ds107')\n",
      "ds.inputs.template = '%s/BOLD/task001*/bold.nii.gz'\n",
      "ds.inputs.sort_filelist = True\n",
      "\n",
      "ds.inputs.subject_id = 'sub001'\n",
      "print ds.run().outputs"
     ],
     "language": "python",
     "metadata": {},
     "outputs": [
      {
       "output_type": "stream",
       "stream": "stdout",
       "text": [
        "\n",
        "func = ['/SCR/nipype_tutorial/ds107/sub001/BOLD/task001_run001/bold.nii.gz', '/SCR/nipype_tutorial/ds107/sub001/BOLD/task001_run002/bold.nii.gz']\n",
        "\n"
       ]
      }
     ],
     "prompt_number": 66
    },
    {
     "cell_type": "code",
     "collapsed": false,
     "input": [
      "ds.inputs.subject_id = 'sub044'\n",
      "print ds.run().outputs"
     ],
     "language": "python",
     "metadata": {},
     "outputs": [
      {
       "output_type": "stream",
       "stream": "stdout",
       "text": [
        "\n",
        "func = ['/SCR/nipype_tutorial/ds107/sub044/BOLD/task001_run001/bold.nii.gz', '/SCR/nipype_tutorial/ds107/sub044/BOLD/task001_run002/bold.nii.gz']\n",
        "\n"
       ]
      }
     ],
     "prompt_number": 67
    },
    {
     "cell_type": "markdown",
     "metadata": {
      "slideshow": {
       "slide_type": "subslide"
      }
     },
     "source": [
      "#Multiple files\n",
      "\n",
      "### A little more practical usage"
     ]
    },
    {
     "cell_type": "code",
     "collapsed": false,
     "input": [
      "ds = Node(DataGrabber(infields=['subject_id', 'task_id'],\n",
      "                              outfields=['func', 'anat']),\n",
      "          name='datasource')\n",
      "ds.inputs.base_directory = opap('ds107')\n",
      "ds.inputs.template = '*'\n",
      "ds.inputs.template_args = {'func': [['subject_id', 'task_id']],\n",
      "                           'anat': [['subject_id']]}\n",
      "ds.inputs.field_template = {'func': '%s/BOLD/task%03d*/bold.nii.gz',\n",
      "                            'anat': '%s/anatomy/highres001.nii.gz'}\n",
      "ds.inputs.sort_filelist = True\n",
      "ds.inputs.subject_id = 'sub001'\n",
      "ds.inputs.task_id = 1\n",
      "print ds.run().outputs"
     ],
     "language": "python",
     "metadata": {},
     "outputs": [
      {
       "output_type": "stream",
       "stream": "stdout",
       "text": [
        "\n",
        "anat = /SCR/nipype_tutorial/ds107/sub001/anatomy/highres001.nii.gz\n",
        "func = ['/SCR/nipype_tutorial/ds107/sub001/BOLD/task001_run001/bold.nii.gz', '/SCR/nipype_tutorial/ds107/sub001/BOLD/task001_run002/bold.nii.gz']\n",
        "\n"
       ]
      }
     ],
     "prompt_number": 68
    },
    {
     "cell_type": "markdown",
     "metadata": {
      "slideshow": {
       "slide_type": "subslide"
      }
     },
     "source": [
      "# Connecting to computation"
     ]
    },
    {
     "cell_type": "code",
     "collapsed": false,
     "input": [
      "convert2nii = MapNode(MRIConvert(out_type='nii'),\n",
      "                      iterfield=['in_file'],\n",
      "                      name='convert2nii')\n",
      "\n",
      "realign_spm = Node(Realign(), name='motion_correct')\n",
      "realign_spm.inputs.register_to_mean = False\n",
      "\n",
      "connectedworkflow = Workflow(name='connectedtogether')\n",
      "connectedworkflow.base_dir = opap('working_dir')\n",
      "connectedworkflow.connect(ds, 'func', convert2nii, 'in_file')\n",
      "connectedworkflow.connect(convert2nii, 'out_file', realign_spm, 'in_files')"
     ],
     "language": "python",
     "metadata": {},
     "outputs": [],
     "prompt_number": 69
    },
    {
     "cell_type": "markdown",
     "metadata": {
      "slideshow": {
       "slide_type": "subslide"
      }
     },
     "source": [
      "#Data sinking\n",
      "\n",
      "###Take output computed in a workflow out of it."
     ]
    },
    {
     "cell_type": "code",
     "collapsed": false,
     "input": [
      "from nipype.interfaces.io import DataSink\n",
      "sinker = Node(DataSink(), name='sinker')\n",
      "sinker.inputs.base_directory = opap('output')\n",
      "connectedworkflow.connect(realign_spm, 'realigned_files',\n",
      "                          sinker, 'realigned')\n",
      "connectedworkflow.connect(realign_spm, 'realignment_parameters',\n",
      "                          sinker, 'realigned.@parameters')\n",
      "connectedworkflow.run()"
     ],
     "language": "python",
     "metadata": {},
     "outputs": [
      {
       "metadata": {},
       "output_type": "pyout",
       "prompt_number": 70,
       "text": [
        "<networkx.classes.digraph.DiGraph at 0x6ec1550>"
       ]
      }
     ],
     "prompt_number": 70
    },
    {
     "cell_type": "markdown",
     "metadata": {},
     "source": [
      "### How to determine output location\n",
      "\n",
      "    'base_directory/container/parameterization/destloc/filename'\n",
      "    \n",
      "    destloc = [@]string[[.[@]]string[[.[@]]string]...] and\n",
      "    destloc = realigned.@parameters --> 'realigned'\n",
      "    destloc = realigned.parameters.@1 --> 'realigned/parameters'\n",
      "    destloc = realigned.parameters.@2 --> 'realigned/parameters'\n",
      "    filename comes from the input to the connect statement."
     ]
    },
    {
     "cell_type": "markdown",
     "metadata": {
      "slideshow": {
       "slide_type": "slide"
      }
     },
     "source": [
      "#Step 6: *iterables* - parametric execution\n",
      "\n",
      "**Workflow + iterables**: runs subgraph several times, attribute not input"
     ]
    },
    {
     "cell_type": "markdown",
     "metadata": {},
     "source": [
      "<img src=\"https://raw.github.com/satra/intro2nipype/master/images/iterables.png\" width=\"30%\">"
     ]
    },
    {
     "cell_type": "code",
     "collapsed": false,
     "input": [
      "ds.iterables = ('subject_id', ['sub001', 'sub044'])\n",
      "connectedworkflow.run()"
     ],
     "language": "python",
     "metadata": {},
     "outputs": [
      {
       "metadata": {},
       "output_type": "pyout",
       "prompt_number": 71,
       "text": [
        "<networkx.classes.digraph.DiGraph at 0x22eec10>"
       ]
      }
     ],
     "prompt_number": 71
    },
    {
     "cell_type": "markdown",
     "metadata": {
      "slideshow": {
       "slide_type": "subslide"
      }
     },
     "source": [
      "#Putting it all together\n",
      "\n",
      "### iterables + MapNode + Node + Workflow + DataGrabber + DataSink"
     ]
    },
    {
     "cell_type": "code",
     "collapsed": false,
     "input": [
      "connectedworkflow.write_graph()\n",
      "Image('working_dir/connectedtogether/graph.dot.png')"
     ],
     "language": "python",
     "metadata": {
      "slideshow": {
       "slide_type": "-"
      }
     },
     "outputs": [
      {
       "metadata": {},
       "output_type": "pyout",
       "png": "[encoded data removed]",
       "prompt_number": 72,
       "text": [
        "<IPython.core.display.Image at 0x6ec4850>"
       ]
      }
     ],
     "prompt_number": 72
    },
    {
     "cell_type": "markdown",
     "metadata": {
      "slideshow": {
       "slide_type": "slide"
      }
     },
     "source": [
      "# Step 7: The Function interface\n",
      "\n",
      "### The do anything you want card"
     ]
    },
    {
     "cell_type": "code",
     "collapsed": false,
     "input": [
      "from nipype.interfaces.utility import Function\n",
      "\n",
      "def myfunc(input1, input2):\n",
      "    \"\"\"Add and subtract two inputs\n",
      "    \"\"\"\n",
      "    return input1 + input2, input1 - input2\n",
      "\n",
      "calcfunc = Node(Function(input_names=['input1', 'input2'],\n",
      "                         output_names = ['sum', 'difference'],\n",
      "                         function=myfunc),\n",
      "                name='mycalc')\n",
      "calcfunc.inputs.input1 = 1\n",
      "calcfunc.inputs.input2 = 2\n",
      "res = calcfunc.run()\n",
      "print res.outputs"
     ],
     "language": "python",
     "metadata": {},
     "outputs": [
      {
       "output_type": "stream",
       "stream": "stdout",
       "text": [
        "\n",
        "difference = -1\n",
        "sum = 3\n",
        "\n"
       ]
      }
     ],
     "prompt_number": 73
    },
    {
     "cell_type": "markdown",
     "metadata": {
      "slideshow": {
       "slide_type": "slide"
      }
     },
     "source": [
      "#Step 8: Distributed computing\n",
      "\n",
      "### Normally calling run executes the workflow in series"
     ]
    },
    {
     "cell_type": "code",
     "collapsed": false,
     "input": [
      "connectedworkflow.run()"
     ],
     "language": "python",
     "metadata": {},
     "outputs": [
      {
       "metadata": {},
       "output_type": "pyout",
       "prompt_number": 74,
       "text": [
        "<networkx.classes.digraph.DiGraph at 0x6ec4750>"
       ]
      }
     ],
     "prompt_number": 74
    },
    {
     "cell_type": "markdown",
     "metadata": {},
     "source": [
      "### but you can scale very easily\n",
      "\n",
      "For example, to use multiple cores on your local machine"
     ]
    },
    {
     "cell_type": "code",
     "collapsed": false,
     "input": [
      "connectedworkflow.run('MultiProc', plugin_args={'n_procs': 4})"
     ],
     "language": "python",
     "metadata": {},
     "outputs": [
      {
       "metadata": {},
       "output_type": "pyout",
       "prompt_number": 75,
       "text": [
        "<networkx.classes.digraph.DiGraph at 0x7156950>"
       ]
      }
     ],
     "prompt_number": 75
    },
    {
     "cell_type": "markdown",
     "metadata": {
      "slideshow": {
       "slide_type": "subslide"
      }
     },
     "source": [
      "### Or to other job managers\n",
      "\n",
      "- connectedworkflow.run('PBS', plugin_args={'qsub_args': '-q many'})\n",
      "- connectedworkflow.run('SGE', plugin_args={'qsub_args': '-q many'})\n",
      "- connectedworkflow.run('LSF', plugin_args={'qsub_args': '-q many'})\n",
      "- connectedworkflow.run('Condor')\n",
      "- connectedworkflow.run('IPython')\n",
      "\n",
      "### or submit graphs as a whole\n",
      "\n",
      "\n",
      "- connectedworkflow.run('PBSGraph', plugin_args={'qsub_args': '-q many'})\n",
      "- connectedworkflow.run('SGEGraph', plugin_args={'qsub_args': '-q many'})\n",
      "- connectedworkflow.run('CondorDAGMan')\n",
      "\n",
      "### Current Requirement: **SHARED FILESYSTEM**"
     ]
    },
    {
     "cell_type": "markdown",
     "metadata": {
      "slideshow": {
       "slide_type": "subslide"
      }
     },
     "source": [
      "### You can also set node specific plugin arguments"
     ]
    },
    {
     "cell_type": "markdown",
     "metadata": {},
     "source": [
      "\n",
      "- node.plugin_args = {'qsub_args': '-l nodes=1:ppn=3', 'overwrite': True}\n"
     ]
    },
    {
     "cell_type": "markdown",
     "metadata": {
      "slideshow": {
       "slide_type": "slide"
      }
     },
     "source": [
      "#Step 9: Connecting to Databases"
     ]
    },
    {
     "cell_type": "code",
     "collapsed": false,
     "input": [
      "from os.path import abspath as opap\n",
      "\n",
      "from nipype.interfaces.io import XNATSource\n",
      "from nipype.pipeline.engine import Node, Workflow\n",
      "from nipype.interfaces.fsl import BET\n",
      "\n",
      "subject_id = 'xnat_S00001'\n",
      "\n",
      "dg = Node(XNATSource(infields=['subject_id'],\n",
      "                     outfields=['struct'],\n",
      "                     config='/Users/satra/xnat_configs/nitrc_ir_config'),\n",
      "          name='xnatsource')\n",
      "dg.inputs.query_template = ('/projects/fcon_1000/subjects/%s/experiments/xnat_E00001'\n",
      "                            '/scans/%s/resources/NIfTI/files')\n",
      "dg.inputs.query_template_args['struct'] = [['subject_id', 'anat_mprage_anonymized']]\n",
      "dg.inputs.subject_id = subject_id\n",
      "\n",
      "bet = Node(BET(), name='skull_stripper')\n",
      "\n",
      "wf = Workflow(name='testxnat')\n",
      "wf.base_dir = opap('xnattest')\n",
      "wf.connect(dg, 'struct', bet, 'in_file')"
     ],
     "language": "python",
     "metadata": {},
     "outputs": [],
     "prompt_number": 76
    },
    {
     "cell_type": "code",
     "collapsed": false,
     "input": [
      "from nipype.interfaces.io import XNATSink\n",
      "\n",
      "ds = Node(XNATSink(config='/Users/satra/xnat_configs/central_config'),\n",
      "          name='xnatsink')\n",
      "ds.inputs.project_id = 'NPTEST'\n",
      "ds.inputs.subject_id = 'NPTEST_xnat_S00001'\n",
      "ds.inputs.experiment_id = 'test_xnat'\n",
      "ds.inputs.reconstruction_id = 'bet'\n",
      "ds.inputs.share = True\n",
      "wf.connect(bet, 'out_file', ds, 'brain')"
     ],
     "language": "python",
     "metadata": {
      "slideshow": {
       "slide_type": "skip"
      }
     },
     "outputs": [],
     "prompt_number": 77
    },
    {
     "cell_type": "code",
     "collapsed": false,
     "input": [
      "wf.run()"
     ],
     "language": "python",
     "metadata": {
      "slideshow": {
       "slide_type": "subslide"
      }
     },
     "outputs": [
      {
       "ename": "RuntimeError",
       "evalue": "Workflow did not execute cleanly. Check log for details",
       "output_type": "pyerr",
       "traceback": [
        "\u001b[0;31m---------------------------------------------------------------------------\u001b[0m\n\u001b[0;31mRuntimeError\u001b[0m                              Traceback (most recent call last)",
        "\u001b[0;32m<ipython-input-78-0d1b7d40916a>\u001b[0m in \u001b[0;36m<module>\u001b[0;34m()\u001b[0m\n\u001b[0;32m----> 1\u001b[0;31m \u001b[0mwf\u001b[0m\u001b[0;34m.\u001b[0m\u001b[0mrun\u001b[0m\u001b[0;34m(\u001b[0m\u001b[0;34m)\u001b[0m\u001b[0;34m\u001b[0m\u001b[0m\n\u001b[0m",
        "\u001b[0;32m/usr/lib/pymodules/python2.7/nipype/pipeline/engine.pyc\u001b[0m in \u001b[0;36mrun\u001b[0;34m(self, plugin, plugin_args, updatehash)\u001b[0m\n\u001b[1;32m    667\u001b[0m         \u001b[0;32mif\u001b[0m \u001b[0mstr2bool\u001b[0m\u001b[0;34m(\u001b[0m\u001b[0mself\u001b[0m\u001b[0;34m.\u001b[0m\u001b[0mconfig\u001b[0m\u001b[0;34m[\u001b[0m\u001b[0;34m'execution'\u001b[0m\u001b[0;34m]\u001b[0m\u001b[0;34m[\u001b[0m\u001b[0;34m'create_report'\u001b[0m\u001b[0;34m]\u001b[0m\u001b[0;34m)\u001b[0m\u001b[0;34m:\u001b[0m\u001b[0;34m\u001b[0m\u001b[0m\n\u001b[1;32m    668\u001b[0m             \u001b[0mself\u001b[0m\u001b[0;34m.\u001b[0m\u001b[0m_write_report_info\u001b[0m\u001b[0;34m(\u001b[0m\u001b[0mself\u001b[0m\u001b[0;34m.\u001b[0m\u001b[0mbase_dir\u001b[0m\u001b[0;34m,\u001b[0m \u001b[0mself\u001b[0m\u001b[0;34m.\u001b[0m\u001b[0mname\u001b[0m\u001b[0;34m,\u001b[0m \u001b[0mexecgraph\u001b[0m\u001b[0;34m)\u001b[0m\u001b[0;34m\u001b[0m\u001b[0m\n\u001b[0;32m--> 669\u001b[0;31m         \u001b[0mrunner\u001b[0m\u001b[0;34m.\u001b[0m\u001b[0mrun\u001b[0m\u001b[0;34m(\u001b[0m\u001b[0mexecgraph\u001b[0m\u001b[0;34m,\u001b[0m \u001b[0mupdatehash\u001b[0m\u001b[0;34m=\u001b[0m\u001b[0mupdatehash\u001b[0m\u001b[0;34m,\u001b[0m \u001b[0mconfig\u001b[0m\u001b[0;34m=\u001b[0m\u001b[0mself\u001b[0m\u001b[0;34m.\u001b[0m\u001b[0mconfig\u001b[0m\u001b[0;34m)\u001b[0m\u001b[0;34m\u001b[0m\u001b[0m\n\u001b[0m\u001b[1;32m    670\u001b[0m         \u001b[0;32mreturn\u001b[0m \u001b[0mexecgraph\u001b[0m\u001b[0;34m\u001b[0m\u001b[0m\n\u001b[1;32m    671\u001b[0m \u001b[0;34m\u001b[0m\u001b[0m\n",
        "\u001b[0;32m/usr/lib/pymodules/python2.7/nipype/pipeline/plugins/linear.pyc\u001b[0m in \u001b[0;36mrun\u001b[0;34m(self, graph, config, updatehash)\u001b[0m\n\u001b[1;32m     53\u001b[0m                 \u001b[0;32mif\u001b[0m \u001b[0mself\u001b[0m\u001b[0;34m.\u001b[0m\u001b[0m_status_callback\u001b[0m\u001b[0;34m:\u001b[0m\u001b[0;34m\u001b[0m\u001b[0m\n\u001b[1;32m     54\u001b[0m                     \u001b[0mself\u001b[0m\u001b[0;34m.\u001b[0m\u001b[0m_status_callback\u001b[0m\u001b[0;34m(\u001b[0m\u001b[0mnode\u001b[0m\u001b[0;34m,\u001b[0m \u001b[0;34m'exception'\u001b[0m\u001b[0;34m)\u001b[0m\u001b[0;34m\u001b[0m\u001b[0m\n\u001b[0;32m---> 55\u001b[0;31m         \u001b[0mreport_nodes_not_run\u001b[0m\u001b[0;34m(\u001b[0m\u001b[0mnotrun\u001b[0m\u001b[0;34m)\u001b[0m\u001b[0;34m\u001b[0m\u001b[0m\n\u001b[0m\u001b[1;32m     56\u001b[0m \u001b[0;34m\u001b[0m\u001b[0m\n",
        "\u001b[0;32m/usr/lib/pymodules/python2.7/nipype/pipeline/plugins/base.pyc\u001b[0m in \u001b[0;36mreport_nodes_not_run\u001b[0;34m(notrun)\u001b[0m\n\u001b[1;32m     87\u001b[0m                 \u001b[0mlogger\u001b[0m\u001b[0;34m.\u001b[0m\u001b[0mdebug\u001b[0m\u001b[0;34m(\u001b[0m\u001b[0msubnode\u001b[0m\u001b[0;34m.\u001b[0m\u001b[0m_id\u001b[0m\u001b[0;34m)\u001b[0m\u001b[0;34m\u001b[0m\u001b[0m\n\u001b[1;32m     88\u001b[0m         \u001b[0mlogger\u001b[0m\u001b[0;34m.\u001b[0m\u001b[0minfo\u001b[0m\u001b[0;34m(\u001b[0m\u001b[0;34m\"***********************************\"\u001b[0m\u001b[0;34m)\u001b[0m\u001b[0;34m\u001b[0m\u001b[0m\n\u001b[0;32m---> 89\u001b[0;31m         raise RuntimeError(('Workflow did not execute cleanly. '\n\u001b[0m\u001b[1;32m     90\u001b[0m                             'Check log for details'))\n\u001b[1;32m     91\u001b[0m \u001b[0;34m\u001b[0m\u001b[0m\n",
        "\u001b[0;31mRuntimeError\u001b[0m: Workflow did not execute cleanly. Check log for details"
       ]
      }
     ],
     "prompt_number": 78
    },
    {
     "cell_type": "markdown",
     "metadata": {
      "slideshow": {
       "slide_type": "slide"
      }
     },
     "source": [
      "#Step 10: Configuration options\n",
      "\n",
      "[Configurable options](http://nipy.org/nipype/users/config_file.html) control workflow and node execution options\n",
      "\n",
      "At the global level:"
     ]
    },
    {
     "cell_type": "code",
     "collapsed": false,
     "input": [
      "from nipype import config, logging\n",
      "\n",
      "config.enable_debug_mode()\n",
      "logging.update_logging(config)\n",
      "\n",
      "config.set('execution', 'stop_on_first_crash', 'true')"
     ],
     "language": "python",
     "metadata": {},
     "outputs": [],
     "prompt_number": 79
    },
    {
     "cell_type": "markdown",
     "metadata": {},
     "source": [
      "At the workflow level:"
     ]
    },
    {
     "cell_type": "code",
     "collapsed": false,
     "input": [
      "wf.config['execution']['hash_method'] = 'content'"
     ],
     "language": "python",
     "metadata": {},
     "outputs": [],
     "prompt_number": 80
    },
    {
     "cell_type": "markdown",
     "metadata": {
      "slideshow": {
       "slide_type": "subslide"
      }
     },
     "source": [
      "Configurations can also be set at the node level."
     ]
    },
    {
     "cell_type": "code",
     "collapsed": false,
     "input": [
      "bet.config = {'execution': {'keep_unnecessary_outputs': 'true'}}"
     ],
     "language": "python",
     "metadata": {},
     "outputs": [],
     "prompt_number": 81
    },
    {
     "cell_type": "code",
     "collapsed": false,
     "input": [
      "wf.run()"
     ],
     "language": "python",
     "metadata": {},
     "outputs": [
      {
       "output_type": "stream",
       "stream": "stdout",
       "text": [
        "131208-22:35:56,637 workflow DEBUG:\n",
        "\t Creating flat graph for workflow: testxnat\n"
       ]
      },
      {
       "output_type": "stream",
       "stream": "stdout",
       "text": [
        "131208-22:35:56,640 workflow DEBUG:\n",
        "\t expanding workflow: testxnat\n"
       ]
      },
      {
       "output_type": "stream",
       "stream": "stdout",
       "text": [
        "131208-22:35:56,640 workflow DEBUG:\n",
        "\t processing node: testxnat.xnatsource\n"
       ]
      },
      {
       "output_type": "stream",
       "stream": "stdout",
       "text": [
        "131208-22:35:56,641 workflow DEBUG:\n",
        "\t processing node: testxnat.skull_stripper\n"
       ]
      },
      {
       "output_type": "stream",
       "stream": "stdout",
       "text": [
        "131208-22:35:56,641 workflow DEBUG:\n",
        "\t processing node: testxnat.xnatsink\n"
       ]
      },
      {
       "output_type": "stream",
       "stream": "stdout",
       "text": [
        "131208-22:35:56,641 workflow DEBUG:\n",
        "\t finished expanding workflow: testxnat\n"
       ]
      },
      {
       "output_type": "stream",
       "stream": "stdout",
       "text": [
        "131208-22:35:56,642 workflow INFO:\n",
        "\t ['check', 'execution', 'logging']\n"
       ]
      },
      {
       "output_type": "stream",
       "stream": "stdout",
       "text": [
        "131208-22:35:56,645 workflow DEBUG:\n",
        "\t PE: expanding iterables\n"
       ]
      },
      {
       "output_type": "stream",
       "stream": "stdout",
       "text": [
        "131208-22:35:56,645 workflow DEBUG:\n",
        "\t PE: expanding iterables ... done\n"
       ]
      },
      {
       "output_type": "stream",
       "stream": "stdout",
       "text": [
        "131208-22:35:56,647 workflow INFO:\n",
        "\t Running serially.\n"
       ]
      },
      {
       "output_type": "stream",
       "stream": "stdout",
       "text": [
        "131208-22:35:56,647 workflow DEBUG:\n",
        "\t Setting node inputs\n"
       ]
      },
      {
       "output_type": "stream",
       "stream": "stdout",
       "text": [
        "131208-22:35:56,648 workflow INFO:\n",
        "\t Executing node xnatsource in dir: /SCR/nipype_tutorial/xnattest/testxnat/xnatsource\n"
       ]
      },
      {
       "output_type": "stream",
       "stream": "stdout",
       "text": [
        "131208-22:35:56,648 workflow DEBUG:\n",
        "\t Node hash: 513132d7eecc2600347c2112006e5374\n"
       ]
      },
      {
       "output_type": "stream",
       "stream": "stdout",
       "text": [
        "131208-22:35:56,649 workflow DEBUG:\n",
        "\t Removing old /SCR/nipype_tutorial/xnattest/testxnat/xnatsource and its contents\n"
       ]
      },
      {
       "output_type": "stream",
       "stream": "stdout",
       "text": [
        "131208-22:35:56,649 workflow DEBUG:\n",
        "\t Creating /SCR/nipype_tutorial/xnattest/testxnat/xnatsource\n"
       ]
      },
      {
       "output_type": "stream",
       "stream": "stdout",
       "text": [
        "131208-22:35:56,650 workflow DEBUG:\n",
        "\t writing pre-exec report to /SCR/nipype_tutorial/xnattest/testxnat/xnatsource/_report/report.rst\n"
       ]
      },
      {
       "output_type": "stream",
       "stream": "stdout",
       "text": [
        "131208-22:35:56,652 workflow DEBUG:\n",
        "\t Executing node\n"
       ]
      },
      {
       "output_type": "stream",
       "stream": "stdout",
       "text": [
        "131208-22:35:56,652 workflow DEBUG:\n",
        "\t copying files to wd [execute=True, linksonly=False]\n"
       ]
      },
      {
       "output_type": "stream",
       "stream": "stdout",
       "text": [
        "131208-22:35:56,653 workflow ERROR:\n",
        "\t ['Node xnatsource failed to run on host adenauer.']\n"
       ]
      },
      {
       "output_type": "stream",
       "stream": "stdout",
       "text": [
        "131208-22:35:56,654 workflow INFO:\n",
        "\t Saving crash info to /scr/adenauer1/PowerFolder/Dropbox/workspace/nipype/examples/crash-20131208-223556-gorgolewski-xnatsource.npz\n"
       ]
      },
      {
       "output_type": "stream",
       "stream": "stdout",
       "text": [
        "131208-22:35:56,654 workflow INFO:\n",
        "\t Traceback (most recent call last):\n",
        "  File \"/usr/lib/pymodules/python2.7/nipype/pipeline/plugins/linear.py\", line 37, in run\n",
        "    node.run(updatehash=updatehash)\n",
        "  File \"/usr/lib/pymodules/python2.7/nipype/pipeline/engine.py\", line 1282, in run\n",
        "    self._run_interface()\n",
        "  File \"/usr/lib/pymodules/python2.7/nipype/pipeline/engine.py\", line 1380, in _run_interface\n",
        "    self._result = self._run_command(execute)\n",
        "  File \"/usr/lib/pymodules/python2.7/nipype/pipeline/engine.py\", line 1504, in _run_command\n",
        "    result = self._interface.run()\n",
        "  File \"/usr/lib/pymodules/python2.7/nipype/interfaces/base.py\", line 899, in run\n",
        "    results.outputs = self.aggregate_outputs(results.runtime)\n",
        "  File \"/usr/lib/pymodules/python2.7/nipype/interfaces/base.py\", line 941, in aggregate_outputs\n",
        "    predicted_outputs = self._list_outputs()\n",
        "  File \"/usr/lib/pymodules/python2.7/nipype/interfaces/io.py\", line 967, in _list_outputs\n",
        "    xnat = pyxnat.Interface(config=self.inputs.config)\n",
        "  File \"/usr/lib/python2.7/dist-packages/pyxnat/core/interfaces.py\", line 143, in __init__\n",
        "    self.load_config(config)\n",
        "  File \"/usr/lib/python2.7/dist-packages/pyxnat/core/interfaces.py\", line 516, in load_config\n",
        "    raise Exception('Configuration file does not exists.')\n",
        "Exception: Configuration file does not exists.\n",
        "Interface XNATSource failed to run. Inputs:\n",
        "cache_dir = <undefined>\n",
        "config = /Users/satra/xnat_configs/nitrc_ir_config\n",
        "field_template = <undefined>\n",
        "ignore_exception = False\n",
        "pwd = <undefined>\n",
        "query_template = /projects/fcon_1000/subjects/%s/experiments/xnat_E00001/scans/%s/resources/NIfTI/files\n",
        "query_template_args = {'struct': [['subject_id', 'anat_mprage_anonymized']]}\n",
        "server = <undefined>\n",
        "subject_id = xnat_S00001\n",
        "user = <undefined>\n",
        "\n",
        "\n",
        "\n"
       ]
      },
      {
       "output_type": "stream",
       "stream": "stdout",
       "text": [
        "131208-22:35:56,673 workflow INFO:\n",
        "\t ***********************************\n"
       ]
      },
      {
       "output_type": "stream",
       "stream": "stdout",
       "text": [
        "131208-22:35:56,674 workflow ERROR:\n",
        "\t could not run node: testxnat.xnatsource\n"
       ]
      },
      {
       "output_type": "stream",
       "stream": "stdout",
       "text": [
        "131208-22:35:56,675 workflow INFO:\n",
        "\t crashfile: /scr/adenauer1/PowerFolder/Dropbox/workspace/nipype/examples/crash-20131208-223556-gorgolewski-xnatsource.npz\n"
       ]
      },
      {
       "output_type": "stream",
       "stream": "stdout",
       "text": [
        "131208-22:35:56,675 workflow DEBUG:\n",
        "\t The following dependent nodes were not run\n"
       ]
      },
      {
       "output_type": "stream",
       "stream": "stdout",
       "text": [
        "131208-22:35:56,675 workflow DEBUG:\n",
        "\t xnatsource\n"
       ]
      },
      {
       "output_type": "stream",
       "stream": "stdout",
       "text": [
        "131208-22:35:56,676 workflow DEBUG:\n",
        "\t skull_stripper\n"
       ]
      },
      {
       "output_type": "stream",
       "stream": "stdout",
       "text": [
        "131208-22:35:56,676 workflow DEBUG:\n",
        "\t xnatsink\n"
       ]
      },
      {
       "output_type": "stream",
       "stream": "stdout",
       "text": [
        "131208-22:35:56,677 workflow INFO:\n",
        "\t ***********************************\n"
       ]
      },
      {
       "ename": "RuntimeError",
       "evalue": "Workflow did not execute cleanly. Check log for details",
       "output_type": "pyerr",
       "traceback": [
        "\u001b[0;31m---------------------------------------------------------------------------\u001b[0m\n\u001b[0;31mRuntimeError\u001b[0m                              Traceback (most recent call last)",
        "\u001b[0;32m<ipython-input-82-0d1b7d40916a>\u001b[0m in \u001b[0;36m<module>\u001b[0;34m()\u001b[0m\n\u001b[0;32m----> 1\u001b[0;31m \u001b[0mwf\u001b[0m\u001b[0;34m.\u001b[0m\u001b[0mrun\u001b[0m\u001b[0;34m(\u001b[0m\u001b[0;34m)\u001b[0m\u001b[0;34m\u001b[0m\u001b[0m\n\u001b[0m",
        "\u001b[0;32m/usr/lib/pymodules/python2.7/nipype/pipeline/engine.pyc\u001b[0m in \u001b[0;36mrun\u001b[0;34m(self, plugin, plugin_args, updatehash)\u001b[0m\n\u001b[1;32m    667\u001b[0m         \u001b[0;32mif\u001b[0m \u001b[0mstr2bool\u001b[0m\u001b[0;34m(\u001b[0m\u001b[0mself\u001b[0m\u001b[0;34m.\u001b[0m\u001b[0mconfig\u001b[0m\u001b[0;34m[\u001b[0m\u001b[0;34m'execution'\u001b[0m\u001b[0;34m]\u001b[0m\u001b[0;34m[\u001b[0m\u001b[0;34m'create_report'\u001b[0m\u001b[0;34m]\u001b[0m\u001b[0;34m)\u001b[0m\u001b[0;34m:\u001b[0m\u001b[0;34m\u001b[0m\u001b[0m\n\u001b[1;32m    668\u001b[0m             \u001b[0mself\u001b[0m\u001b[0;34m.\u001b[0m\u001b[0m_write_report_info\u001b[0m\u001b[0;34m(\u001b[0m\u001b[0mself\u001b[0m\u001b[0;34m.\u001b[0m\u001b[0mbase_dir\u001b[0m\u001b[0;34m,\u001b[0m \u001b[0mself\u001b[0m\u001b[0;34m.\u001b[0m\u001b[0mname\u001b[0m\u001b[0;34m,\u001b[0m \u001b[0mexecgraph\u001b[0m\u001b[0;34m)\u001b[0m\u001b[0;34m\u001b[0m\u001b[0m\n\u001b[0;32m--> 669\u001b[0;31m         \u001b[0mrunner\u001b[0m\u001b[0;34m.\u001b[0m\u001b[0mrun\u001b[0m\u001b[0;34m(\u001b[0m\u001b[0mexecgraph\u001b[0m\u001b[0;34m,\u001b[0m \u001b[0mupdatehash\u001b[0m\u001b[0;34m=\u001b[0m\u001b[0mupdatehash\u001b[0m\u001b[0;34m,\u001b[0m \u001b[0mconfig\u001b[0m\u001b[0;34m=\u001b[0m\u001b[0mself\u001b[0m\u001b[0;34m.\u001b[0m\u001b[0mconfig\u001b[0m\u001b[0;34m)\u001b[0m\u001b[0;34m\u001b[0m\u001b[0m\n\u001b[0m\u001b[1;32m    670\u001b[0m         \u001b[0;32mreturn\u001b[0m \u001b[0mexecgraph\u001b[0m\u001b[0;34m\u001b[0m\u001b[0m\n\u001b[1;32m    671\u001b[0m \u001b[0;34m\u001b[0m\u001b[0m\n",
        "\u001b[0;32m/usr/lib/pymodules/python2.7/nipype/pipeline/plugins/linear.pyc\u001b[0m in \u001b[0;36mrun\u001b[0;34m(self, graph, config, updatehash)\u001b[0m\n\u001b[1;32m     53\u001b[0m                 \u001b[0;32mif\u001b[0m \u001b[0mself\u001b[0m\u001b[0;34m.\u001b[0m\u001b[0m_status_callback\u001b[0m\u001b[0;34m:\u001b[0m\u001b[0;34m\u001b[0m\u001b[0m\n\u001b[1;32m     54\u001b[0m                     \u001b[0mself\u001b[0m\u001b[0;34m.\u001b[0m\u001b[0m_status_callback\u001b[0m\u001b[0;34m(\u001b[0m\u001b[0mnode\u001b[0m\u001b[0;34m,\u001b[0m \u001b[0;34m'exception'\u001b[0m\u001b[0;34m)\u001b[0m\u001b[0;34m\u001b[0m\u001b[0m\n\u001b[0;32m---> 55\u001b[0;31m         \u001b[0mreport_nodes_not_run\u001b[0m\u001b[0;34m(\u001b[0m\u001b[0mnotrun\u001b[0m\u001b[0;34m)\u001b[0m\u001b[0;34m\u001b[0m\u001b[0m\n\u001b[0m\u001b[1;32m     56\u001b[0m \u001b[0;34m\u001b[0m\u001b[0m\n",
        "\u001b[0;32m/usr/lib/pymodules/python2.7/nipype/pipeline/plugins/base.pyc\u001b[0m in \u001b[0;36mreport_nodes_not_run\u001b[0;34m(notrun)\u001b[0m\n\u001b[1;32m     87\u001b[0m                 \u001b[0mlogger\u001b[0m\u001b[0;34m.\u001b[0m\u001b[0mdebug\u001b[0m\u001b[0;34m(\u001b[0m\u001b[0msubnode\u001b[0m\u001b[0;34m.\u001b[0m\u001b[0m_id\u001b[0m\u001b[0;34m)\u001b[0m\u001b[0;34m\u001b[0m\u001b[0m\n\u001b[1;32m     88\u001b[0m         \u001b[0mlogger\u001b[0m\u001b[0;34m.\u001b[0m\u001b[0minfo\u001b[0m\u001b[0;34m(\u001b[0m\u001b[0;34m\"***********************************\"\u001b[0m\u001b[0;34m)\u001b[0m\u001b[0;34m\u001b[0m\u001b[0m\n\u001b[0;32m---> 89\u001b[0;31m         raise RuntimeError(('Workflow did not execute cleanly. '\n\u001b[0m\u001b[1;32m     90\u001b[0m                             'Check log for details'))\n\u001b[1;32m     91\u001b[0m \u001b[0;34m\u001b[0m\u001b[0m\n",
        "\u001b[0;31mRuntimeError\u001b[0m: Workflow did not execute cleanly. Check log for details"
       ]
      }
     ],
     "prompt_number": 82
    },
    {
     "cell_type": "markdown",
     "metadata": {
      "slideshow": {
       "slide_type": "slide"
      }
     },
     "source": [
      "# Reusable workflows"
     ]
    },
    {
     "cell_type": "code",
     "collapsed": false,
     "input": [
      "config.set_default_config()\n",
      "logging.update_logging(config)"
     ],
     "language": "python",
     "metadata": {},
     "outputs": [],
     "prompt_number": 83
    },
    {
     "cell_type": "code",
     "collapsed": false,
     "input": [
      "from nipype.workflows.fmri.fsl.preprocess import create_susan_smooth\n",
      "\n",
      "smooth = create_susan_smooth()\n",
      "smooth.inputs.inputnode.in_files = op.abspath('output/realigned/_subject_id_sub044/rbold_out.nii')\n",
      "smooth.inputs.inputnode.fwhm = 5\n",
      "smooth.inputs.inputnode.mask_file = 'mask.nii'\n",
      "\n",
      "smooth.run() # Will error because mask.nii does not exist"
     ],
     "language": "python",
     "metadata": {},
     "outputs": [
      {
       "output_type": "stream",
       "stream": "stdout",
       "text": [
        "131208-22:36:23,623 workflow INFO:\n",
        "\t ['check', 'execution', 'logging']\n"
       ]
      },
      {
       "output_type": "stream",
       "stream": "stdout",
       "text": [
        "131208-22:36:23,630 workflow INFO:\n",
        "\t Running serially.\n"
       ]
      },
      {
       "output_type": "stream",
       "stream": "stdout",
       "text": [
        "131208-22:36:23,632 workflow ERROR:\n",
        "\t ['Node mask failed to run on host adenauer.']\n"
       ]
      },
      {
       "output_type": "stream",
       "stream": "stdout",
       "text": [
        "131208-22:36:23,633 workflow INFO:\n",
        "\t Saving crash info to /scr/adenauer1/PowerFolder/Dropbox/workspace/nipype/examples/crash-20131208-223623-gorgolewski-mask.npz\n"
       ]
      },
      {
       "output_type": "stream",
       "stream": "stdout",
       "text": [
        "131208-22:36:23,633 workflow INFO:\n",
        "\t Traceback (most recent call last):\n",
        "  File \"/usr/lib/pymodules/python2.7/nipype/pipeline/plugins/linear.py\", line 37, in run\n",
        "    node.run(updatehash=updatehash)\n",
        "  File \"/usr/lib/pymodules/python2.7/nipype/pipeline/engine.py\", line 1214, in run\n",
        "    self._get_inputs()\n",
        "  File \"/usr/lib/pymodules/python2.7/nipype/pipeline/engine.py\", line 1854, in _get_inputs\n",
        "    self._inputs.set(**old_inputs)\n",
        "  File \"/usr/lib/python2.7/dist-packages/traits/has_traits.py\", line 1933, in trait_set\n",
        "    setattr( self, name, value )\n",
        "  File \"/usr/lib/pymodules/python2.7/nipype/interfaces/base.py\", line 1518, in validate\n",
        "    value = super(MultiPath, self).validate(object, name, newvalue)\n",
        "  File \"/usr/lib/python2.7/dist-packages/traits/trait_types.py\", line 2185, in validate\n",
        "    return TraitListObject( self, object, name, value )\n",
        "  File \"/usr/lib/python2.7/dist-packages/traits/trait_handlers.py\", line 2418, in __init__\n",
        "    raise excp\n",
        "TraitError: Each element of the 'in_file2' trait of a DynamicTraitedSpec instance must be an existing file name, but a value of 'mask.nii' <type 'str'> was specified.\n",
        "\n"
       ]
      },
      {
       "output_type": "stream",
       "stream": "stdout",
       "text": [
        "131208-22:36:23,636 workflow ERROR:\n",
        "\t ['Node median failed to run on host adenauer.']\n"
       ]
      },
      {
       "output_type": "stream",
       "stream": "stdout",
       "text": [
        "131208-22:36:23,637 workflow INFO:\n",
        "\t Saving crash info to /scr/adenauer1/PowerFolder/Dropbox/workspace/nipype/examples/crash-20131208-223623-gorgolewski-median.npz\n"
       ]
      },
      {
       "output_type": "stream",
       "stream": "stdout",
       "text": [
        "131208-22:36:23,637 workflow INFO:\n",
        "\t Traceback (most recent call last):\n",
        "  File \"/usr/lib/pymodules/python2.7/nipype/pipeline/plugins/linear.py\", line 37, in run\n",
        "    node.run(updatehash=updatehash)\n",
        "  File \"/usr/lib/pymodules/python2.7/nipype/pipeline/engine.py\", line 1214, in run\n",
        "    self._get_inputs()\n",
        "  File \"/usr/lib/pymodules/python2.7/nipype/pipeline/engine.py\", line 1854, in _get_inputs\n",
        "    self._inputs.set(**old_inputs)\n",
        "  File \"/usr/lib/python2.7/dist-packages/traits/has_traits.py\", line 1933, in trait_set\n",
        "    setattr( self, name, value )\n",
        "  File \"/usr/lib/pymodules/python2.7/nipype/interfaces/base.py\", line 1518, in validate\n",
        "    value = super(MultiPath, self).validate(object, name, newvalue)\n",
        "  File \"/usr/lib/python2.7/dist-packages/traits/trait_types.py\", line 2185, in validate\n",
        "    return TraitListObject( self, object, name, value )\n",
        "  File \"/usr/lib/python2.7/dist-packages/traits/trait_handlers.py\", line 2418, in __init__\n",
        "    raise excp\n",
        "TraitError: Each element of the 'mask_file' trait of a DynamicTraitedSpec instance must be an existing file name, but a value of 'mask.nii' <type 'str'> was specified.\n",
        "\n"
       ]
      },
      {
       "output_type": "stream",
       "stream": "stdout",
       "text": [
        "131208-22:36:23,639 workflow INFO:\n",
        "\t ***********************************\n"
       ]
      },
      {
       "output_type": "stream",
       "stream": "stdout",
       "text": [
        "131208-22:36:23,639 workflow ERROR:\n",
        "\t could not run node: susan_smooth.mask\n"
       ]
      },
      {
       "output_type": "stream",
       "stream": "stdout",
       "text": [
        "131208-22:36:23,639 workflow INFO:\n",
        "\t crashfile: /scr/adenauer1/PowerFolder/Dropbox/workspace/nipype/examples/crash-20131208-223623-gorgolewski-mask.npz\n"
       ]
      },
      {
       "output_type": "stream",
       "stream": "stdout",
       "text": [
        "131208-22:36:23,640 workflow ERROR:\n",
        "\t could not run node: susan_smooth.median\n"
       ]
      },
      {
       "output_type": "stream",
       "stream": "stdout",
       "text": [
        "131208-22:36:23,640 workflow INFO:\n",
        "\t crashfile: /scr/adenauer1/PowerFolder/Dropbox/workspace/nipype/examples/crash-20131208-223623-gorgolewski-median.npz\n"
       ]
      },
      {
       "output_type": "stream",
       "stream": "stdout",
       "text": [
        "131208-22:36:23,641 workflow INFO:\n",
        "\t ***********************************\n"
       ]
      },
      {
       "ename": "RuntimeError",
       "evalue": "Workflow did not execute cleanly. Check log for details",
       "output_type": "pyerr",
       "traceback": [
        "\u001b[0;31m---------------------------------------------------------------------------\u001b[0m\n\u001b[0;31mRuntimeError\u001b[0m                              Traceback (most recent call last)",
        "\u001b[0;32m<ipython-input-84-f25608db7a94>\u001b[0m in \u001b[0;36m<module>\u001b[0;34m()\u001b[0m\n\u001b[1;32m      6\u001b[0m \u001b[0msmooth\u001b[0m\u001b[0;34m.\u001b[0m\u001b[0minputs\u001b[0m\u001b[0;34m.\u001b[0m\u001b[0minputnode\u001b[0m\u001b[0;34m.\u001b[0m\u001b[0mmask_file\u001b[0m \u001b[0;34m=\u001b[0m \u001b[0;34m'mask.nii'\u001b[0m\u001b[0;34m\u001b[0m\u001b[0m\n\u001b[1;32m      7\u001b[0m \u001b[0;34m\u001b[0m\u001b[0m\n\u001b[0;32m----> 8\u001b[0;31m \u001b[0msmooth\u001b[0m\u001b[0;34m.\u001b[0m\u001b[0mrun\u001b[0m\u001b[0;34m(\u001b[0m\u001b[0;34m)\u001b[0m \u001b[0;31m# Will error because mask.nii does not exist\u001b[0m\u001b[0;34m\u001b[0m\u001b[0m\n\u001b[0m",
        "\u001b[0;32m/usr/lib/pymodules/python2.7/nipype/pipeline/engine.pyc\u001b[0m in \u001b[0;36mrun\u001b[0;34m(self, plugin, plugin_args, updatehash)\u001b[0m\n\u001b[1;32m    667\u001b[0m         \u001b[0;32mif\u001b[0m \u001b[0mstr2bool\u001b[0m\u001b[0;34m(\u001b[0m\u001b[0mself\u001b[0m\u001b[0;34m.\u001b[0m\u001b[0mconfig\u001b[0m\u001b[0;34m[\u001b[0m\u001b[0;34m'execution'\u001b[0m\u001b[0;34m]\u001b[0m\u001b[0;34m[\u001b[0m\u001b[0;34m'create_report'\u001b[0m\u001b[0;34m]\u001b[0m\u001b[0;34m)\u001b[0m\u001b[0;34m:\u001b[0m\u001b[0;34m\u001b[0m\u001b[0m\n\u001b[1;32m    668\u001b[0m             \u001b[0mself\u001b[0m\u001b[0;34m.\u001b[0m\u001b[0m_write_report_info\u001b[0m\u001b[0;34m(\u001b[0m\u001b[0mself\u001b[0m\u001b[0;34m.\u001b[0m\u001b[0mbase_dir\u001b[0m\u001b[0;34m,\u001b[0m \u001b[0mself\u001b[0m\u001b[0;34m.\u001b[0m\u001b[0mname\u001b[0m\u001b[0;34m,\u001b[0m \u001b[0mexecgraph\u001b[0m\u001b[0;34m)\u001b[0m\u001b[0;34m\u001b[0m\u001b[0m\n\u001b[0;32m--> 669\u001b[0;31m         \u001b[0mrunner\u001b[0m\u001b[0;34m.\u001b[0m\u001b[0mrun\u001b[0m\u001b[0;34m(\u001b[0m\u001b[0mexecgraph\u001b[0m\u001b[0;34m,\u001b[0m \u001b[0mupdatehash\u001b[0m\u001b[0;34m=\u001b[0m\u001b[0mupdatehash\u001b[0m\u001b[0;34m,\u001b[0m \u001b[0mconfig\u001b[0m\u001b[0;34m=\u001b[0m\u001b[0mself\u001b[0m\u001b[0;34m.\u001b[0m\u001b[0mconfig\u001b[0m\u001b[0;34m)\u001b[0m\u001b[0;34m\u001b[0m\u001b[0m\n\u001b[0m\u001b[1;32m    670\u001b[0m         \u001b[0;32mreturn\u001b[0m \u001b[0mexecgraph\u001b[0m\u001b[0;34m\u001b[0m\u001b[0m\n\u001b[1;32m    671\u001b[0m \u001b[0;34m\u001b[0m\u001b[0m\n",
        "\u001b[0;32m/usr/lib/pymodules/python2.7/nipype/pipeline/plugins/linear.pyc\u001b[0m in \u001b[0;36mrun\u001b[0;34m(self, graph, config, updatehash)\u001b[0m\n\u001b[1;32m     53\u001b[0m                 \u001b[0;32mif\u001b[0m \u001b[0mself\u001b[0m\u001b[0;34m.\u001b[0m\u001b[0m_status_callback\u001b[0m\u001b[0;34m:\u001b[0m\u001b[0;34m\u001b[0m\u001b[0m\n\u001b[1;32m     54\u001b[0m                     \u001b[0mself\u001b[0m\u001b[0;34m.\u001b[0m\u001b[0m_status_callback\u001b[0m\u001b[0;34m(\u001b[0m\u001b[0mnode\u001b[0m\u001b[0;34m,\u001b[0m \u001b[0;34m'exception'\u001b[0m\u001b[0;34m)\u001b[0m\u001b[0;34m\u001b[0m\u001b[0m\n\u001b[0;32m---> 55\u001b[0;31m         \u001b[0mreport_nodes_not_run\u001b[0m\u001b[0;34m(\u001b[0m\u001b[0mnotrun\u001b[0m\u001b[0;34m)\u001b[0m\u001b[0;34m\u001b[0m\u001b[0m\n\u001b[0m\u001b[1;32m     56\u001b[0m \u001b[0;34m\u001b[0m\u001b[0m\n",
        "\u001b[0;32m/usr/lib/pymodules/python2.7/nipype/pipeline/plugins/base.pyc\u001b[0m in \u001b[0;36mreport_nodes_not_run\u001b[0;34m(notrun)\u001b[0m\n\u001b[1;32m     87\u001b[0m                 \u001b[0mlogger\u001b[0m\u001b[0;34m.\u001b[0m\u001b[0mdebug\u001b[0m\u001b[0;34m(\u001b[0m\u001b[0msubnode\u001b[0m\u001b[0;34m.\u001b[0m\u001b[0m_id\u001b[0m\u001b[0;34m)\u001b[0m\u001b[0;34m\u001b[0m\u001b[0m\n\u001b[1;32m     88\u001b[0m         \u001b[0mlogger\u001b[0m\u001b[0;34m.\u001b[0m\u001b[0minfo\u001b[0m\u001b[0;34m(\u001b[0m\u001b[0;34m\"***********************************\"\u001b[0m\u001b[0;34m)\u001b[0m\u001b[0;34m\u001b[0m\u001b[0m\n\u001b[0;32m---> 89\u001b[0;31m         raise RuntimeError(('Workflow did not execute cleanly. '\n\u001b[0m\u001b[1;32m     90\u001b[0m                             'Check log for details'))\n\u001b[1;32m     91\u001b[0m \u001b[0;34m\u001b[0m\u001b[0m\n",
        "\u001b[0;31mRuntimeError\u001b[0m: Workflow did not execute cleanly. Check log for details"
       ]
      }
     ],
     "prompt_number": 84
    },
    {
     "cell_type": "code",
     "collapsed": false,
     "input": [
      "from nipype.interfaces.fsl import BET, MeanImage, ImageMaths\n",
      "from nipype.pipeline.engine import Node\n",
      "\n",
      "\n",
      "remove_nan = Node(ImageMaths(op_string= '-nan'), name='nanremove')\n",
      "remove_nan.inputs.in_file = opap('output/realigned/_subject_id_sub044/rbold_out.nii')\n",
      "\n",
      "mi = Node(MeanImage(), name='mean')\n",
      "\n",
      "mask = Node(BET(mask=True), name='mask')\n",
      "\n",
      "wf = Workflow('reuse')\n",
      "wf.base_dir = op.abspath('.')\n",
      "wf.connect(remove_nan, 'out_file', mi, 'in_file')\n",
      "wf.connect(mi, 'out_file', mask, 'in_file')\n",
      "wf.connect(mask, 'out_file', smooth, 'inputnode.mask_file')\n",
      "wf.connect(remove_nan, 'out_file', smooth, 'inputnode.in_files')\n",
      "\n",
      "wf.run()"
     ],
     "language": "python",
     "metadata": {
      "slideshow": {
       "slide_type": "subslide"
      }
     },
     "outputs": [
      {
       "output_type": "stream",
       "stream": "stdout",
       "text": [
        "131208-22:38:31,474 workflow INFO:\n",
        "\t ['check', 'execution', 'logging']\n"
       ]
      },
      {
       "output_type": "stream",
       "stream": "stdout",
       "text": [
        "131208-22:38:31,481 workflow INFO:\n",
        "\t Running serially.\n"
       ]
      },
      {
       "output_type": "stream",
       "stream": "stdout",
       "text": [
        "131208-22:38:31,482 workflow INFO:\n",
        "\t Executing node nanremove in dir: /SCR/nipype_tutorial/reuse/nanremove\n"
       ]
      },
      {
       "output_type": "stream",
       "stream": "stdout",
       "text": [
        "131208-22:38:31,483 workflow INFO:\n",
        "\t Collecting precomputed outputs\n"
       ]
      },
      {
       "output_type": "stream",
       "stream": "stdout",
       "text": [
        "131208-22:38:31,488 workflow INFO:\n",
        "\t Executing node mean in dir: /SCR/nipype_tutorial/reuse/mean\n"
       ]
      },
      {
       "output_type": "stream",
       "stream": "stdout",
       "text": [
        "131208-22:38:31,489 workflow INFO:\n",
        "\t Collecting precomputed outputs\n"
       ]
      },
      {
       "output_type": "stream",
       "stream": "stdout",
       "text": [
        "131208-22:38:31,494 workflow INFO:\n",
        "\t Executing node mask in dir: /SCR/nipype_tutorial/reuse/mask\n"
       ]
      },
      {
       "output_type": "stream",
       "stream": "stdout",
       "text": [
        "131208-22:38:31,495 workflow INFO:\n",
        "\t Collecting precomputed outputs\n"
       ]
      },
      {
       "output_type": "stream",
       "stream": "stdout",
       "text": [
        "131208-22:38:31,503 workflow INFO:\n",
        "\t Executing node median in dir: /SCR/nipype_tutorial/reuse/susan_smooth/median\n"
       ]
      },
      {
       "output_type": "stream",
       "stream": "stdout",
       "text": [
        "131208-22:38:31,511 workflow INFO:\n",
        "\t Executing node mask in dir: /SCR/nipype_tutorial/reuse/susan_smooth/mask\n"
       ]
      },
      {
       "output_type": "stream",
       "stream": "stdout",
       "text": [
        "131208-22:38:31,517 workflow INFO:\n",
        "\t Executing node meanfunc2 in dir: /SCR/nipype_tutorial/reuse/susan_smooth/meanfunc2\n"
       ]
      },
      {
       "output_type": "stream",
       "stream": "stdout",
       "text": [
        "131208-22:38:31,524 workflow INFO:\n",
        "\t Executing node merge in dir: /SCR/nipype_tutorial/reuse/susan_smooth/merge\n"
       ]
      },
      {
       "output_type": "stream",
       "stream": "stdout",
       "text": [
        "131208-22:38:31,525 workflow INFO:\n",
        "\t Collecting precomputed outputs\n"
       ]
      },
      {
       "output_type": "stream",
       "stream": "stdout",
       "text": [
        "131208-22:38:31,530 workflow ERROR:\n",
        "\t ['Node smooth failed to run on host adenauer.']\n"
       ]
      },
      {
       "output_type": "stream",
       "stream": "stdout",
       "text": [
        "131208-22:38:31,531 workflow INFO:\n",
        "\t Saving crash info to /scr/adenauer1/PowerFolder/Dropbox/workspace/nipype/examples/crash-20131208-223831-gorgolewski-smooth.npz\n"
       ]
      },
      {
       "output_type": "stream",
       "stream": "stdout",
       "text": [
        "131208-22:38:31,531 workflow INFO:\n",
        "\t Traceback (most recent call last):\n",
        "  File \"/usr/lib/pymodules/python2.7/nipype/pipeline/plugins/linear.py\", line 37, in run\n",
        "    node.run(updatehash=updatehash)\n",
        "  File \"/usr/lib/pymodules/python2.7/nipype/pipeline/engine.py\", line 1214, in run\n",
        "    self._get_inputs()\n",
        "  File \"/usr/lib/pymodules/python2.7/nipype/pipeline/engine.py\", line 1855, in _get_inputs\n",
        "    super(MapNode, self)._get_inputs()\n",
        "  File \"/usr/lib/pymodules/python2.7/nipype/pipeline/engine.py\", line 1356, in _get_inputs\n",
        "    value)\n",
        "  File \"/usr/lib/pymodules/python2.7/nipype/pipeline/utils.py\", line 275, in evaluate_connect_function\n",
        "    *list(args))\n",
        "  File \"<string>\", line 2, in getusans\n",
        "TypeError: can't multiply sequence by non-int of type 'float'\n",
        "\n"
       ]
      },
      {
       "output_type": "stream",
       "stream": "stdout",
       "text": [
        "131208-22:38:31,532 workflow INFO:\n",
        "\t ***********************************\n"
       ]
      },
      {
       "output_type": "stream",
       "stream": "stdout",
       "text": [
        "131208-22:38:31,533 workflow ERROR:\n",
        "\t could not run node: reuse.susan_smooth.smooth\n"
       ]
      },
      {
       "output_type": "stream",
       "stream": "stdout",
       "text": [
        "131208-22:38:31,533 workflow INFO:\n",
        "\t crashfile: /scr/adenauer1/PowerFolder/Dropbox/workspace/nipype/examples/crash-20131208-223831-gorgolewski-smooth.npz\n"
       ]
      },
      {
       "output_type": "stream",
       "stream": "stdout",
       "text": [
        "131208-22:38:31,533 workflow INFO:\n",
        "\t ***********************************\n"
       ]
      },
      {
       "ename": "RuntimeError",
       "evalue": "Workflow did not execute cleanly. Check log for details",
       "output_type": "pyerr",
       "traceback": [
        "\u001b[0;31m---------------------------------------------------------------------------\u001b[0m\n\u001b[0;31mRuntimeError\u001b[0m                              Traceback (most recent call last)",
        "\u001b[0;32m<ipython-input-86-111b37a0a46b>\u001b[0m in \u001b[0;36m<module>\u001b[0;34m()\u001b[0m\n\u001b[1;32m     17\u001b[0m \u001b[0mwf\u001b[0m\u001b[0;34m.\u001b[0m\u001b[0mconnect\u001b[0m\u001b[0;34m(\u001b[0m\u001b[0mremove_nan\u001b[0m\u001b[0;34m,\u001b[0m \u001b[0;34m'out_file'\u001b[0m\u001b[0;34m,\u001b[0m \u001b[0msmooth\u001b[0m\u001b[0;34m,\u001b[0m \u001b[0;34m'inputnode.in_files'\u001b[0m\u001b[0;34m)\u001b[0m\u001b[0;34m\u001b[0m\u001b[0m\n\u001b[1;32m     18\u001b[0m \u001b[0;34m\u001b[0m\u001b[0m\n\u001b[0;32m---> 19\u001b[0;31m \u001b[0mwf\u001b[0m\u001b[0;34m.\u001b[0m\u001b[0mrun\u001b[0m\u001b[0;34m(\u001b[0m\u001b[0;34m)\u001b[0m\u001b[0;34m\u001b[0m\u001b[0m\n\u001b[0m",
        "\u001b[0;32m/usr/lib/pymodules/python2.7/nipype/pipeline/engine.pyc\u001b[0m in \u001b[0;36mrun\u001b[0;34m(self, plugin, plugin_args, updatehash)\u001b[0m\n\u001b[1;32m    667\u001b[0m         \u001b[0;32mif\u001b[0m \u001b[0mstr2bool\u001b[0m\u001b[0;34m(\u001b[0m\u001b[0mself\u001b[0m\u001b[0;34m.\u001b[0m\u001b[0mconfig\u001b[0m\u001b[0;34m[\u001b[0m\u001b[0;34m'execution'\u001b[0m\u001b[0;34m]\u001b[0m\u001b[0;34m[\u001b[0m\u001b[0;34m'create_report'\u001b[0m\u001b[0;34m]\u001b[0m\u001b[0;34m)\u001b[0m\u001b[0;34m:\u001b[0m\u001b[0;34m\u001b[0m\u001b[0m\n\u001b[1;32m    668\u001b[0m             \u001b[0mself\u001b[0m\u001b[0;34m.\u001b[0m\u001b[0m_write_report_info\u001b[0m\u001b[0;34m(\u001b[0m\u001b[0mself\u001b[0m\u001b[0;34m.\u001b[0m\u001b[0mbase_dir\u001b[0m\u001b[0;34m,\u001b[0m \u001b[0mself\u001b[0m\u001b[0;34m.\u001b[0m\u001b[0mname\u001b[0m\u001b[0;34m,\u001b[0m \u001b[0mexecgraph\u001b[0m\u001b[0;34m)\u001b[0m\u001b[0;34m\u001b[0m\u001b[0m\n\u001b[0;32m--> 669\u001b[0;31m         \u001b[0mrunner\u001b[0m\u001b[0;34m.\u001b[0m\u001b[0mrun\u001b[0m\u001b[0;34m(\u001b[0m\u001b[0mexecgraph\u001b[0m\u001b[0;34m,\u001b[0m \u001b[0mupdatehash\u001b[0m\u001b[0;34m=\u001b[0m\u001b[0mupdatehash\u001b[0m\u001b[0;34m,\u001b[0m \u001b[0mconfig\u001b[0m\u001b[0;34m=\u001b[0m\u001b[0mself\u001b[0m\u001b[0;34m.\u001b[0m\u001b[0mconfig\u001b[0m\u001b[0;34m)\u001b[0m\u001b[0;34m\u001b[0m\u001b[0m\n\u001b[0m\u001b[1;32m    670\u001b[0m         \u001b[0;32mreturn\u001b[0m \u001b[0mexecgraph\u001b[0m\u001b[0;34m\u001b[0m\u001b[0m\n\u001b[1;32m    671\u001b[0m \u001b[0;34m\u001b[0m\u001b[0m\n",
        "\u001b[0;32m/usr/lib/pymodules/python2.7/nipype/pipeline/plugins/linear.pyc\u001b[0m in \u001b[0;36mrun\u001b[0;34m(self, graph, config, updatehash)\u001b[0m\n\u001b[1;32m     53\u001b[0m                 \u001b[0;32mif\u001b[0m \u001b[0mself\u001b[0m\u001b[0;34m.\u001b[0m\u001b[0m_status_callback\u001b[0m\u001b[0;34m:\u001b[0m\u001b[0;34m\u001b[0m\u001b[0m\n\u001b[1;32m     54\u001b[0m                     \u001b[0mself\u001b[0m\u001b[0;34m.\u001b[0m\u001b[0m_status_callback\u001b[0m\u001b[0;34m(\u001b[0m\u001b[0mnode\u001b[0m\u001b[0;34m,\u001b[0m \u001b[0;34m'exception'\u001b[0m\u001b[0;34m)\u001b[0m\u001b[0;34m\u001b[0m\u001b[0m\n\u001b[0;32m---> 55\u001b[0;31m         \u001b[0mreport_nodes_not_run\u001b[0m\u001b[0;34m(\u001b[0m\u001b[0mnotrun\u001b[0m\u001b[0;34m)\u001b[0m\u001b[0;34m\u001b[0m\u001b[0m\n\u001b[0m\u001b[1;32m     56\u001b[0m \u001b[0;34m\u001b[0m\u001b[0m\n",
        "\u001b[0;32m/usr/lib/pymodules/python2.7/nipype/pipeline/plugins/base.pyc\u001b[0m in \u001b[0;36mreport_nodes_not_run\u001b[0;34m(notrun)\u001b[0m\n\u001b[1;32m     87\u001b[0m                 \u001b[0mlogger\u001b[0m\u001b[0;34m.\u001b[0m\u001b[0mdebug\u001b[0m\u001b[0;34m(\u001b[0m\u001b[0msubnode\u001b[0m\u001b[0;34m.\u001b[0m\u001b[0m_id\u001b[0m\u001b[0;34m)\u001b[0m\u001b[0;34m\u001b[0m\u001b[0m\n\u001b[1;32m     88\u001b[0m         \u001b[0mlogger\u001b[0m\u001b[0;34m.\u001b[0m\u001b[0minfo\u001b[0m\u001b[0;34m(\u001b[0m\u001b[0;34m\"***********************************\"\u001b[0m\u001b[0;34m)\u001b[0m\u001b[0;34m\u001b[0m\u001b[0m\n\u001b[0;32m---> 89\u001b[0;31m         raise RuntimeError(('Workflow did not execute cleanly. '\n\u001b[0m\u001b[1;32m     90\u001b[0m                             'Check log for details'))\n\u001b[1;32m     91\u001b[0m \u001b[0;34m\u001b[0m\u001b[0m\n",
        "\u001b[0;31mRuntimeError\u001b[0m: Workflow did not execute cleanly. Check log for details"
       ]
      }
     ],
     "prompt_number": 86
    },
    {
     "cell_type": "markdown",
     "metadata": {
      "slideshow": {
       "slide_type": "subslide"
      }
     },
     "source": [
      "## Setting internal parameters of workflows"
     ]
    },
    {
     "cell_type": "code",
     "collapsed": false,
     "input": [
      "print(smooth.list_node_names())\n",
      "\n",
      "median = smooth.get_node('median')\n",
      "median.inputs.op_string = '-k %s -p 60'"
     ],
     "language": "python",
     "metadata": {
      "slideshow": {
       "slide_type": "-"
      }
     },
     "outputs": []
    },
    {
     "cell_type": "code",
     "collapsed": false,
     "input": [
      "wf.run()"
     ],
     "language": "python",
     "metadata": {},
     "outputs": []
    },
    {
     "cell_type": "markdown",
     "metadata": {
      "slideshow": {
       "slide_type": "slide"
      }
     },
     "source": [
      "# Summary\n",
      "\n",
      "\n",
      "- This tutorial covers the concepts of Nipype\n",
      "\n",
      "    1. Installing and testing the installation \n",
      "    2. Working with interfaces\n",
      "    3. Using Nipype caching\n",
      "    4. Creating Nodes, MapNodes and Workflows\n",
      "    5. Getting and saving data\n",
      "    6. Using Iterables\n",
      "    7. Function nodes\n",
      "    8. Distributed computation\n",
      "    9. Connecting to databases\n",
      "    10. Execution configuration options\n",
      "\n",
      "- It will allow you to reuse and debug the various workflows available in Nipype, BIPS and CPAC\n",
      "- Please contribute new interfaces and workflows!"
     ]
    },
    {
     "cell_type": "code",
     "collapsed": false,
     "input": [
      "import os\n",
      "basedir = '/Users/satra/Dropbox/WORK/notebooks/'\n",
      "if os.path.exists(basedir):\n",
      "    os.chdir(basedir)"
     ],
     "language": "python",
     "metadata": {
      "slideshow": {
       "slide_type": "skip"
      }
     },
     "outputs": []
    }
   ],
   "metadata": {}
  }
 ]
}